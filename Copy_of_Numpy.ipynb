{
  "cells": [
    {
      "cell_type": "markdown",
      "source": [
        "**Installation of NumPy**"
      ],
      "metadata": {
        "id": "a7f4PJbosPzz"
      },
      "id": "a7f4PJbosPzz"
    },
    {
      "cell_type": "code",
      "source": [
        "pip install numpy"
      ],
      "metadata": {
        "colab": {
          "base_uri": "https://localhost:8080/"
        },
        "id": "BhUGxrkGsV0e",
        "outputId": "2dc8ae5e-c161-4934-c169-a29a944b03af"
      },
      "id": "BhUGxrkGsV0e",
      "execution_count": null,
      "outputs": [
        {
          "output_type": "stream",
          "name": "stdout",
          "text": [
            "Requirement already satisfied: numpy in /usr/local/lib/python3.10/dist-packages (1.25.2)\n"
          ]
        }
      ]
    },
    {
      "cell_type": "markdown",
      "source": [
        "**Checking NumPy Version**"
      ],
      "metadata": {
        "id": "S4FztCL8rsIT"
      },
      "id": "S4FztCL8rsIT"
    },
    {
      "cell_type": "code",
      "source": [
        "import numpy as np\n",
        "print(np.__version__)"
      ],
      "metadata": {
        "colab": {
          "base_uri": "https://localhost:8080/"
        },
        "id": "AQGkaK0Dr8ny",
        "outputId": "86018a14-62c4-419f-fe18-16d7a8c69c3a"
      },
      "id": "AQGkaK0Dr8ny",
      "execution_count": null,
      "outputs": [
        {
          "output_type": "stream",
          "name": "stdout",
          "text": [
            "1.25.2\n"
          ]
        }
      ]
    },
    {
      "cell_type": "markdown",
      "source": [
        "**Create a NumPy ndarray Object**"
      ],
      "metadata": {
        "id": "A-2K9RTZo1z5"
      },
      "id": "A-2K9RTZo1z5"
    },
    {
      "cell_type": "code",
      "source": [
        "import numpy as np\n",
        "l =[1,2,3,4,5]\n",
        "print(l)\n",
        "arr = np.array([1, 2, 3, 4, 5])\n",
        "print(arr)\n",
        "print(type(arr))"
      ],
      "metadata": {
        "colab": {
          "base_uri": "https://localhost:8080/"
        },
        "id": "6ZpAGHSNokrv",
        "outputId": "705e4170-2163-4bf8-bd45-adeab82972a5"
      },
      "id": "6ZpAGHSNokrv",
      "execution_count": null,
      "outputs": [
        {
          "output_type": "stream",
          "name": "stdout",
          "text": [
            "[1, 2, 3, 4, 5]\n",
            "[1 2 3 4 5]\n",
            "<class 'numpy.ndarray'>\n"
          ]
        }
      ]
    },
    {
      "cell_type": "markdown",
      "source": [
        "# **Differnce between List and traditional Array in python**\n",
        "\n",
        "**1.Data Type:**\n",
        "\n",
        "* The array module provides a fixed-type array implementation, meaning all elements must be of the same data type.\n",
        "\n",
        "* Lists, on the other hand, can contain elements of different data types.\n",
        "\n",
        "**2.Mutability:**\n",
        "\n",
        "* Arrays created with the array module are mutable, meaning you can change the values of individual elements after creation.\n",
        "\n",
        "* Lists are also mutable, allowing you to change, add, or remove elements after creation.\n",
        "\n",
        "**3.Type Flexibility:**\n",
        "\n",
        "* The array module requires you to specify the data type of elements when creating an array.\n",
        "* This enforces homogeneity within the array.\n",
        "* Lists in Python are more flexible, allowing elements of different data types within the same list.\n",
        "\n",
        "**4.Memory Efficiency:**\n",
        "\n",
        "* Arrays from the array module can be more memory efficient compared to lists because they store elements of a fixed data type.\n",
        "* Lists may require more memory because they can store elements of different data types, leading to potential memory overhead.\n",
        "\n",
        "\n",
        "\n",
        "\n",
        "\n",
        "\n",
        "\n",
        "\n"
      ],
      "metadata": {
        "id": "yxhFjCwcO_r8"
      },
      "id": "yxhFjCwcO_r8"
    },
    {
      "cell_type": "code",
      "source": [
        "# Using the array module:\n",
        "import array\n",
        "\n",
        "# Creating an array of integers\n",
        "int_array = array.array('i', [1, 2, 3, 4, 5])\n",
        "\n",
        "# Modifying an element\n",
        "int_array[2] = 10\n",
        "\n",
        "# Printing the array\n",
        "print(\"Array:\", int_array)\n"
      ],
      "metadata": {
        "colab": {
          "base_uri": "https://localhost:8080/",
          "height": 106
        },
        "id": "t51ZUpJsO_AR",
        "outputId": "45cbb6b1-0b63-4c32-96bf-5734125b8312"
      },
      "id": "t51ZUpJsO_AR",
      "execution_count": null,
      "outputs": [
        {
          "output_type": "error",
          "ename": "SyntaxError",
          "evalue": "invalid syntax (<ipython-input-9-cade6462db9b>, line 5)",
          "traceback": [
            "\u001b[0;36m  File \u001b[0;32m\"<ipython-input-9-cade6462db9b>\"\u001b[0;36m, line \u001b[0;32m5\u001b[0m\n\u001b[0;31m    int_array = array.array('i', [, 2, 3, 4, 5])\u001b[0m\n\u001b[0m                                  ^\u001b[0m\n\u001b[0;31mSyntaxError\u001b[0m\u001b[0;31m:\u001b[0m invalid syntax\n"
          ]
        }
      ]
    },
    {
      "cell_type": "code",
      "source": [
        "# Using Python Lists:\n",
        "# Creating a list with elements of different data types\n",
        "my_list = [1, 2.5, 'hello']\n",
        "\n",
        "# Modifying an element\n",
        "my_list[1] = 5.0\n",
        "\n",
        "# Printing the list\n",
        "print(\"List:\", my_list)\n"
      ],
      "metadata": {
        "colab": {
          "base_uri": "https://localhost:8080/"
        },
        "id": "YroepISrQt9Y",
        "outputId": "006c3f4b-b885-472c-9cc2-2b97971f91f1"
      },
      "id": "YroepISrQt9Y",
      "execution_count": null,
      "outputs": [
        {
          "output_type": "stream",
          "name": "stdout",
          "text": [
            "List: [1, 5.0, 'hello']\n"
          ]
        }
      ]
    },
    {
      "cell_type": "markdown",
      "source": [
        "* In both cases, we create a data structure and modify one of its elements.\n",
        "* The key difference lies in the type flexibility and memory usage. The array module enforces a fixed data type for all elements, while lists allow for heterogeneity.\n",
        "* Depending on the use case, you might choose one over the other for memory efficiency, type requirements, or specific functionality needs."
      ],
      "metadata": {
        "id": "SDDc39YAQ-bi"
      },
      "id": "SDDc39YAQ-bi"
    },
    {
      "cell_type": "markdown",
      "source": [
        "# Difference between Array and NumPy Array\n",
        "**Normal array Module:**\n",
        "* The array module in Python provides a way to create arrays with a fixed type of elements.\n",
        "* It is similar to lists but has a fixed type for all elements.\n",
        "It is less flexible compared to NumPy arrays and lists in terms of operations and functionality."
      ],
      "metadata": {
        "id": "uxm18wU2sLXo"
      },
      "id": "uxm18wU2sLXo"
    },
    {
      "cell_type": "code",
      "source": [
        "import array\n",
        "\n",
        "# Creating an array of integers\n",
        "int_array = array.array('i', [1, 2, 3, 4, 5])\n",
        "\n",
        "# Accessing elements\n",
        "print(\"Array:\", int_array)\n",
        "print(\"First Element:\", int_array[0])\n",
        "\n",
        "# Modifying elements\n",
        "int_array[2] = 10\n",
        "print(\"Modified Array:\", int_array)"
      ],
      "metadata": {
        "colab": {
          "base_uri": "https://localhost:8080/"
        },
        "id": "rGZDW7WOR1AB",
        "outputId": "6abd2d92-e560-4300-861b-9d7d86273108"
      },
      "id": "rGZDW7WOR1AB",
      "execution_count": null,
      "outputs": [
        {
          "output_type": "stream",
          "name": "stdout",
          "text": [
            "Array: array('i', [1, 2, 3, 4, 5])\n",
            "First Element: 1\n",
            "Modified Array: array('i', [1, 2, 10, 4, 5])\n"
          ]
        }
      ]
    },
    {
      "cell_type": "markdown",
      "source": [
        "# NumPy Arrays:\n",
        "* NumPy is a powerful library in Python for numerical computations.\n",
        "* NumPy arrays are homogeneous, meaning they can only contain elements of the same data type.\n",
        "* NumPy arrays offer extensive functionality for mathematical operations and are widely used in scientific computing and data analysis."
      ],
      "metadata": {
        "id": "zB0gCKzJR5NL"
      },
      "id": "zB0gCKzJR5NL"
    },
    {
      "cell_type": "code",
      "source": [
        "import numpy as np\n",
        "\n",
        "# Creating a NumPy array of integers\n",
        "int_array_np = np.array([1, 2, 3, 4, 5])\n",
        "\n",
        "# Accessing elements\n",
        "print(\"NumPy Array:\", int_array_np)\n",
        "print(\"First Element:\", int_array_np[0])\n",
        "\n",
        "# Modifying elements\n",
        "int_array_np[2] = 10\n",
        "print(\"Modified NumPy Array:\", int_array_np)\n"
      ],
      "metadata": {
        "colab": {
          "base_uri": "https://localhost:8080/"
        },
        "id": "BOnj1yPSSHP1",
        "outputId": "ad67f70b-aa5b-4aef-b6e0-4b1b4f5067af"
      },
      "id": "BOnj1yPSSHP1",
      "execution_count": null,
      "outputs": [
        {
          "output_type": "stream",
          "name": "stdout",
          "text": [
            "NumPy Array: [1 2 3 4 5]\n",
            "First Element: 1\n",
            "Modified NumPy Array: [ 1  2 10  4  5]\n"
          ]
        }
      ]
    },
    {
      "cell_type": "markdown",
      "source": [
        "**In both examples:**\n",
        "\n",
        "* We create arrays (int_array with the array module and int_array_np with NumPy) and access elements in the same way.\n",
        "* However, NumPy arrays offer additional functionality, such as broadcasting and vectorized operations, making them more suitable for numerical computations.\n",
        "* NumPy arrays also have better memory efficiency and performance compared to the normal array module."
      ],
      "metadata": {
        "id": "Nkh9Dr4KSMnX"
      },
      "id": "Nkh9Dr4KSMnX"
    },
    {
      "cell_type": "code",
      "source": [
        "import array\n",
        "\n",
        "# Creating an array of integers\n",
        "int_array1 = array.array('i', [1, 2])\n",
        "int_array2 = array.array('i', [3, 4])\n",
        "mul_array = int_array1 * int_array2\n",
        "mul_array\n",
        "\n",
        "print(\"Modified Array:\", mul_array)"
      ],
      "metadata": {
        "colab": {
          "base_uri": "https://localhost:8080/",
          "height": 211
        },
        "id": "k7RNDFzqSXPa",
        "outputId": "d51c9e38-ef45-4c70-947f-e89ba60b2c67"
      },
      "id": "k7RNDFzqSXPa",
      "execution_count": null,
      "outputs": [
        {
          "output_type": "error",
          "ename": "TypeError",
          "evalue": "can't multiply sequence by non-int of type 'array.array'",
          "traceback": [
            "\u001b[0;31m---------------------------------------------------------------------------\u001b[0m",
            "\u001b[0;31mTypeError\u001b[0m                                 Traceback (most recent call last)",
            "\u001b[0;32m<ipython-input-10-73cb23c943f2>\u001b[0m in \u001b[0;36m<cell line: 6>\u001b[0;34m()\u001b[0m\n\u001b[1;32m      4\u001b[0m \u001b[0mint_array1\u001b[0m \u001b[0;34m=\u001b[0m \u001b[0marray\u001b[0m\u001b[0;34m.\u001b[0m\u001b[0marray\u001b[0m\u001b[0;34m(\u001b[0m\u001b[0;34m'i'\u001b[0m\u001b[0;34m,\u001b[0m \u001b[0;34m[\u001b[0m\u001b[0;36m1\u001b[0m\u001b[0;34m,\u001b[0m \u001b[0;36m2\u001b[0m\u001b[0;34m]\u001b[0m\u001b[0;34m)\u001b[0m\u001b[0;34m\u001b[0m\u001b[0;34m\u001b[0m\u001b[0m\n\u001b[1;32m      5\u001b[0m \u001b[0mint_array2\u001b[0m \u001b[0;34m=\u001b[0m \u001b[0marray\u001b[0m\u001b[0;34m.\u001b[0m\u001b[0marray\u001b[0m\u001b[0;34m(\u001b[0m\u001b[0;34m'i'\u001b[0m\u001b[0;34m,\u001b[0m \u001b[0;34m[\u001b[0m\u001b[0;36m3\u001b[0m\u001b[0;34m,\u001b[0m \u001b[0;36m4\u001b[0m\u001b[0;34m]\u001b[0m\u001b[0;34m)\u001b[0m\u001b[0;34m\u001b[0m\u001b[0;34m\u001b[0m\u001b[0m\n\u001b[0;32m----> 6\u001b[0;31m \u001b[0mmul_array\u001b[0m \u001b[0;34m=\u001b[0m \u001b[0mint_array1\u001b[0m \u001b[0;34m*\u001b[0m \u001b[0mint_array2\u001b[0m\u001b[0;34m\u001b[0m\u001b[0;34m\u001b[0m\u001b[0m\n\u001b[0m\u001b[1;32m      7\u001b[0m \u001b[0mmul_array\u001b[0m\u001b[0;34m\u001b[0m\u001b[0;34m\u001b[0m\u001b[0m\n\u001b[1;32m      8\u001b[0m \u001b[0;34m\u001b[0m\u001b[0m\n",
            "\u001b[0;31mTypeError\u001b[0m: can't multiply sequence by non-int of type 'array.array'"
          ]
        }
      ]
    },
    {
      "cell_type": "markdown",
      "source": [
        "**Vectorized Operations:**\n",
        "\n",
        "* Vectorized operations allow NumPy to perform element-wise operations on arrays without the need for explicit looping.\n",
        "* These operations are optimized and much faster than using traditional loop-based operations."
      ],
      "metadata": {
        "id": "5u2DLltGTo3z"
      },
      "id": "5u2DLltGTo3z"
    },
    {
      "cell_type": "code",
      "source": [
        "import numpy as np\n",
        "\n",
        "# Creating an array of integers\n",
        "int_array1 = np.array([1, 2])\n",
        "int_array2 = np.array([3, 4])\n",
        "mul_array = int_array1 * int_array2\n",
        "mul_array\n",
        "\n",
        "print(\"Result:\", mul_array)"
      ],
      "metadata": {
        "colab": {
          "base_uri": "https://localhost:8080/"
        },
        "id": "xmY_DFqKS9Z_",
        "outputId": "41fd6047-92f4-4ac2-8f68-a282f0b120ec"
      },
      "id": "xmY_DFqKS9Z_",
      "execution_count": null,
      "outputs": [
        {
          "output_type": "stream",
          "name": "stdout",
          "text": [
            "Result: [4 6]\n"
          ]
        }
      ]
    },
    {
      "cell_type": "markdown",
      "id": "16c243f9",
      "metadata": {
        "id": "16c243f9"
      },
      "source": [
        "# Difference between NumpyArray and List"
      ]
    },
    {
      "cell_type": "code",
      "execution_count": null,
      "id": "137a6914",
      "metadata": {
        "scrolled": true,
        "colab": {
          "base_uri": "https://localhost:8080/"
        },
        "id": "137a6914",
        "outputId": "fa9a9a12-eded-415a-adfb-5ebfe64f069a"
      },
      "outputs": [
        {
          "output_type": "stream",
          "name": "stdout",
          "text": [
            "[1, 2, 3]\n"
          ]
        }
      ],
      "source": [
        "list_obj = [1,2,3]\n",
        "print(list_obj)\n"
      ]
    },
    {
      "cell_type": "code",
      "source": [
        "import numpy as np\n",
        "array = np.array(list_obj)\n",
        "type(array)"
      ],
      "metadata": {
        "colab": {
          "base_uri": "https://localhost:8080/"
        },
        "id": "iej3cwqhIpnR",
        "outputId": "062fc9bf-4639-407b-bc01-7ee931dac814"
      },
      "id": "iej3cwqhIpnR",
      "execution_count": null,
      "outputs": [
        {
          "output_type": "execute_result",
          "data": {
            "text/plain": [
              "numpy.ndarray"
            ]
          },
          "metadata": {},
          "execution_count": 15
        }
      ]
    },
    {
      "cell_type": "code",
      "execution_count": null,
      "id": "63193184",
      "metadata": {
        "colab": {
          "base_uri": "https://localhost:8080/"
        },
        "id": "63193184",
        "outputId": "b5151824-0ff7-4ea9-ae0e-b3e0bc3657bb"
      },
      "outputs": [
        {
          "output_type": "execute_result",
          "data": {
            "text/plain": [
              "[1, 2, 'pc']"
            ]
          },
          "metadata": {},
          "execution_count": 20
        }
      ],
      "source": [
        "list_obj = [1,2,'pc']\n",
        "list_obj"
      ]
    },
    {
      "cell_type": "code",
      "source": [
        "#array = np.array([1,2,'pc'], dtype = 'int')\n",
        "array = np.array([1,2,'pc'])\n",
        "array"
      ],
      "metadata": {
        "colab": {
          "base_uri": "https://localhost:8080/"
        },
        "id": "KsJfo3W2JPhG",
        "outputId": "41a88e69-3c23-44fd-cc63-c02f39c496c6"
      },
      "id": "KsJfo3W2JPhG",
      "execution_count": null,
      "outputs": [
        {
          "output_type": "execute_result",
          "data": {
            "text/plain": [
              "array(['1', '2', 'pc'], dtype='<U21')"
            ]
          },
          "metadata": {},
          "execution_count": 23
        }
      ]
    },
    {
      "cell_type": "markdown",
      "id": "32c3880a",
      "metadata": {
        "id": "32c3880a"
      },
      "source": [
        "# Effect of operations on Numpy array and Python Lists"
      ]
    },
    {
      "cell_type": "code",
      "execution_count": null,
      "id": "1741cb80",
      "metadata": {
        "scrolled": true,
        "id": "1741cb80",
        "outputId": "f402e384-3c6c-42a3-85b9-fb691add9dfb",
        "colab": {
          "base_uri": "https://localhost:8080/"
        }
      },
      "outputs": [
        {
          "output_type": "stream",
          "name": "stdout",
          "text": [
            "[10, 20, 30, 10, 20, 30]\n"
          ]
        }
      ],
      "source": [
        "list1 = [10,20,30]\n",
        "list2 = [10,20,30]\n",
        "print(list1 + list2)"
      ]
    },
    {
      "cell_type": "code",
      "source": [
        "array1 = np.array([1,2,3])\n",
        "array2 = np.array([1,2,3])\n",
        "array1 + array2"
      ],
      "metadata": {
        "colab": {
          "base_uri": "https://localhost:8080/"
        },
        "id": "xRx_WMI5tSpM",
        "outputId": "48a22da2-2094-4fd9-85c3-45456fe3a43b"
      },
      "id": "xRx_WMI5tSpM",
      "execution_count": null,
      "outputs": [
        {
          "output_type": "execute_result",
          "data": {
            "text/plain": [
              "array([2, 4, 6])"
            ]
          },
          "metadata": {},
          "execution_count": 27
        }
      ]
    },
    {
      "cell_type": "code",
      "source": [
        "z = [1,2,3]\n"
      ],
      "metadata": {
        "id": "RgUYi026yOWG"
      },
      "id": "RgUYi026yOWG",
      "execution_count": null,
      "outputs": []
    },
    {
      "cell_type": "code",
      "source": [
        "list1 * z"
      ],
      "metadata": {
        "colab": {
          "base_uri": "https://localhost:8080/",
          "height": 141
        },
        "id": "jZJd4GuWtyu3",
        "outputId": "1ea47709-a143-4784-e20b-49804512343b"
      },
      "id": "jZJd4GuWtyu3",
      "execution_count": null,
      "outputs": [
        {
          "output_type": "error",
          "ename": "NameError",
          "evalue": "name 'list1' is not defined",
          "traceback": [
            "\u001b[0;31m---------------------------------------------------------------------------\u001b[0m",
            "\u001b[0;31mNameError\u001b[0m                                 Traceback (most recent call last)",
            "\u001b[0;32m<ipython-input-24-5da0c7b8d9cf>\u001b[0m in \u001b[0;36m<cell line: 1>\u001b[0;34m()\u001b[0m\n\u001b[0;32m----> 1\u001b[0;31m \u001b[0mlist1\u001b[0m \u001b[0;34m*\u001b[0m \u001b[0mz\u001b[0m\u001b[0;34m\u001b[0m\u001b[0;34m\u001b[0m\u001b[0m\n\u001b[0m",
            "\u001b[0;31mNameError\u001b[0m: name 'list1' is not defined"
          ]
        }
      ]
    },
    {
      "cell_type": "code",
      "source": [
        "array1 * z"
      ],
      "metadata": {
        "id": "I-NaAwfvzJoR",
        "colab": {
          "base_uri": "https://localhost:8080/"
        },
        "outputId": "938b69a6-52f4-40f5-ccf9-533f561b86bb"
      },
      "id": "I-NaAwfvzJoR",
      "execution_count": null,
      "outputs": [
        {
          "output_type": "execute_result",
          "data": {
            "text/plain": [
              "array([1, 4, 9])"
            ]
          },
          "metadata": {},
          "execution_count": 30
        }
      ]
    },
    {
      "cell_type": "code",
      "source": [],
      "metadata": {
        "id": "RKN4lOuu6TtL"
      },
      "id": "RKN4lOuu6TtL",
      "execution_count": null,
      "outputs": []
    },
    {
      "cell_type": "markdown",
      "id": "d54aeb9b",
      "metadata": {
        "id": "d54aeb9b"
      },
      "source": [
        "# Memory consumption between range and lists object"
      ]
    },
    {
      "cell_type": "code",
      "execution_count": null,
      "id": "8159b2a6",
      "metadata": {
        "scrolled": true,
        "id": "8159b2a6",
        "colab": {
          "base_uri": "https://localhost:8080/"
        },
        "outputId": "79a2971e-d337-449b-9806-f7f9bc381ace"
      },
      "outputs": [
        {
          "output_type": "stream",
          "name": "stdout",
          "text": [
            "Memory used by range object: 48 bytes\n"
          ]
        }
      ],
      "source": [
        "import sys\n",
        "\n",
        "# Using range to generate a sequence of numbers\n",
        "my_range = range(1000000)  # Create a range object with a million numbers\n",
        "\n",
        "# Check the memory usage of the range object\n",
        "print(\"Memory used by range object:\", sys.getsizeof(my_range), \"bytes\")"
      ]
    },
    {
      "cell_type": "code",
      "source": [
        "# Converting range object to a list\n",
        "my_list = list(my_range)  # Convert the range object to a list\n",
        "\n",
        "# Check the memory usage of the list\n",
        "print(\"Memory used by list object:\", sys.getsizeof(my_list), \"bytes\")"
      ],
      "metadata": {
        "id": "vNLrnlfnuFpj",
        "colab": {
          "base_uri": "https://localhost:8080/"
        },
        "outputId": "603d43fa-fd6b-4d92-9bb1-cd6c25ddb099"
      },
      "id": "vNLrnlfnuFpj",
      "execution_count": null,
      "outputs": [
        {
          "output_type": "stream",
          "name": "stdout",
          "text": [
            "Memory used by list object: 8000056 bytes\n"
          ]
        }
      ]
    },
    {
      "cell_type": "markdown",
      "source": [
        "#Memory Usage Difference\n",
        "**Range Object:**\n",
        "\n",
        "**Memory used:** Minimal (approximately 48 bytes).\n",
        "\n",
        "**Reason:** Stores only start, stop, and step values without generating all numbers in memory.\n",
        "\n",
        "**List Object:**\n",
        "\n",
        "**Memory used:** Substantial (approximately 8,000,056 bytes for 1,000,000 integers).\n",
        "\n",
        "**Reason:** Stores each number as a separate integer in memory, resulting in higher memory consumption.\n",
        "\n",
        "**Conclusion**\n",
        "**Efficiency:** Use range when you need to iterate over a sequence of numbers without storing them all in memory. This is useful for large sequences.\n",
        "\n",
        "**Memory Usage:** Be cautious when converting a range to a list as it results in significant memory usage, especially for large sequences.\n",
        "\n",
        "* This explanation highlights the efficiency of the range object and the higher memory consumption of the list object, providing insight into their usage based on memory constraints."
      ],
      "metadata": {
        "id": "zERcLfAaYW-K"
      },
      "id": "zERcLfAaYW-K"
    },
    {
      "cell_type": "markdown",
      "source": [
        "# Memory consumption between Numpy array and lists"
      ],
      "metadata": {
        "id": "pEUUiYbq00WO"
      },
      "id": "pEUUiYbq00WO"
    },
    {
      "cell_type": "code",
      "source": [
        "import numpy as np\n",
        "import sys\n",
        "\n",
        "# Create a Python list containing integers from 0 to 999\n",
        "py_list = range(1000)\n",
        "#py_list = [i for i in range(1000)]\n",
        "\n",
        "# Create a NumPy array containing integers from 0 to 999\n",
        "np_array = np.arange(1000)\n",
        "\n",
        "# Check the memory usage of the Python list\n",
        "print(\"Memory used by Python range:\", sys.getsizeof(py_list), \"bytes\")\n",
        "\n",
        "# Check the memory usage of the NumPy array\n",
        "print(\"Memory used by NumPy array:\", np_array.nbytes, \"bytes\")\n"
      ],
      "metadata": {
        "id": "LbgxThpBuU18",
        "colab": {
          "base_uri": "https://localhost:8080/"
        },
        "outputId": "4de49b4c-bf82-4421-e4e8-8b25663e9c5d"
      },
      "id": "LbgxThpBuU18",
      "execution_count": null,
      "outputs": [
        {
          "output_type": "stream",
          "name": "stdout",
          "text": [
            "Memory used by Python range: 48 bytes\n",
            "Memory used by NumPy array: 8000 bytes\n"
          ]
        }
      ]
    },
    {
      "cell_type": "markdown",
      "source": [
        "**Python List:**\n",
        "\n",
        "**Memory Consumption:**\n",
        "\n",
        "* The memory used by the Python list includes the overhead for storing Python objects.\n",
        "* Each element in the list is a full-fledged Python object, which includes additional metadata.\n",
        "\n",
        "**Output:**\n",
        "* The sys.getsizeof(py_list) function returns the memory size of the list object itself, but it does not include the memory used by the actual elements in the list.\n",
        "* To get the total memory usage, you would need to sum the sizes of the individual elements.\n",
        "\n",
        "**NumPy Array:**\n",
        "\n",
        "**Memory Consumption:**\n",
        "* The NumPy array stores data in a contiguous block of memory with a fixed data type, which reduces the overhead and results in more efficient memory usage.\n",
        "\n",
        "**Output:**\n",
        "\n",
        "* The np_array.nbytes attribute returns the total memory size of the array, which includes all elements in the array.\n",
        "* This gives an accurate representation of the memory used by the NumPy array.\n",
        "\n",
        "\n",
        "**Python List:**\n",
        "\n",
        "* Flexible but less memory-efficient due to the overhead of storing each element as a separate Python object.\n",
        "\n",
        "**NumPy Array:**\n",
        "\n",
        "* More memory-efficient for numerical data, storing all elements in a contiguous block with a fixed data type.\n",
        "\n",
        "* The difference in memory usage highlights the advantage of NumPy arrays for large numerical datasets, where memory efficiency is crucial."
      ],
      "metadata": {
        "id": "G1vqRcl7Zi4K"
      },
      "id": "G1vqRcl7Zi4K"
    },
    {
      "cell_type": "markdown",
      "id": "412bf443",
      "metadata": {
        "id": "412bf443"
      },
      "source": [
        "# Time comparison between Numpy array and Python lists"
      ]
    },
    {
      "cell_type": "code",
      "source": [
        "#using Lists\n",
        "import time\n",
        "\n",
        "# Start time\n",
        "start_time = time.time()\n",
        "\n",
        "# Using Python list comprehension to generate a list of numbers from 1 to 1,000,000\n",
        "python_list = [i for i in range(1, 1000001)]\n",
        "\n",
        "# Calculate the sum of squares\n",
        "sum_of_squares = sum([x**2 for x in python_list])\n",
        "\n",
        "# End time\n",
        "end_time = time.time()\n",
        "\n",
        "# Print the result and the time taken\n",
        "print(\"Sum of squares using Python list:\", sum_of_squares)\n",
        "print(\"Time taken with Python list:\", end_time - start_time, \"seconds\")\n"
      ],
      "metadata": {
        "id": "vM1qkpuR5GvC",
        "colab": {
          "base_uri": "https://localhost:8080/"
        },
        "outputId": "77e34e90-b065-410a-f0cf-97ebf6091203"
      },
      "id": "vM1qkpuR5GvC",
      "execution_count": null,
      "outputs": [
        {
          "output_type": "stream",
          "name": "stdout",
          "text": [
            "Sum of squares using Python list: 333333833333500000\n",
            "Time taken with Python list: 0.40378594398498535 seconds\n"
          ]
        }
      ]
    },
    {
      "cell_type": "code",
      "source": [
        "#Using NumPy Arrays:\n",
        "\n",
        "import numpy as np\n",
        "import time\n",
        "\n",
        "# Start time\n",
        "start_time = time.time()\n",
        "\n",
        "# Using NumPy array to generate numbers from 1 to 1,000,000\n",
        "numpy_array = np.arange(1, 1000001)\n",
        "\n",
        "# Calculate the sum of squares using NumPy's vectorized operations\n",
        "sum_of_squares = np.sum(numpy_array**2)\n",
        "\n",
        "# End time\n",
        "end_time = time.time()\n",
        "\n",
        "# Print the result and the time taken\n",
        "print(\"Sum of squares using NumPy array:\", sum_of_squares)\n",
        "print(\"Time taken with NumPy array:\", end_time - start_time, \"seconds\")\n"
      ],
      "metadata": {
        "id": "zW6BSkaH5MzR",
        "colab": {
          "base_uri": "https://localhost:8080/"
        },
        "outputId": "96d4e556-7d81-45c0-a265-d225ad98352d"
      },
      "id": "zW6BSkaH5MzR",
      "execution_count": null,
      "outputs": [
        {
          "output_type": "stream",
          "name": "stdout",
          "text": [
            "Sum of squares using NumPy array: 333333833333500000\n",
            "Time taken with NumPy array: 0.007634639739990234 seconds\n"
          ]
        }
      ]
    },
    {
      "cell_type": "markdown",
      "source": [
        "# Explanation\n",
        "* In both code snippets, we calculate the sum of squares of numbers from 1 to 1,000,000.\n",
        "* With Python lists, we use list comprehension to generate the list of numbers and then sum the squares using the sum function.\n",
        "* With NumPy arrays, we use np.arange to generate the array of numbers and then use NumPy's vectorized operations (**2 and np.sum) to calculate the sum of squares.\n",
        "* The output shows that both methods yield the same result, but the time taken with NumPy arrays is significantly shorter compared to Python lists.\n",
        "* This demonstrates the efficiency of NumPy arrays for numerical computations."
      ],
      "metadata": {
        "id": "arrLnyCMUmEg"
      },
      "id": "arrLnyCMUmEg"
    },
    {
      "cell_type": "markdown",
      "source": [
        "#Advantages of using Numpy Arrays Over Python Lists:\n",
        "\n",
        "* Consumes less memory.\n",
        "* Fast as compared to the python List.\n",
        "* Convenient to use."
      ],
      "metadata": {
        "id": "sTlxq0so1QgG"
      },
      "id": "sTlxq0so1QgG"
    },
    {
      "cell_type": "markdown",
      "id": "7f778f05",
      "metadata": {
        "id": "7f778f05"
      },
      "source": [
        "# NDim, Shape, ReShape"
      ]
    },
    {
      "cell_type": "markdown",
      "source": [
        "**ndim**\n",
        "* Level of depth of array"
      ],
      "metadata": {
        "id": "yleEj4edy80L"
      },
      "id": "yleEj4edy80L"
    },
    {
      "cell_type": "markdown",
      "source": [
        "#Shape\n",
        "* In NumPy, the shape attribute is used to get the dimensions of an array.\n",
        "* This attribute returns a tuple representing the dimensions of the array.\n",
        "* You don't need to call it as a function; simply access it as an attribute.\n",
        "* Here’s how to use the shape attribute for zero-dimensional, one-dimensional, two-dimensional, and three-dimensional NumPy arrays:\n",
        "\n",
        "**Zero-Dimensional Array (Scalar)**\n",
        "* A zero-dimensional array is essentially a scalar value.\n",
        "\n",
        "**One-Dimensional Array (Vector)**\n",
        "* A one-dimensional array is a simple list of elements.\n",
        "\n",
        "**Two-Dimensional Array (Matrix)**\n",
        "* A two-dimensional array is like a matrix with rows and columns.\n",
        "\n",
        "**Three-Dimensional Array (Tensor)**\n",
        "* A three-dimensional array can be thought of as a stack of matrices."
      ],
      "metadata": {
        "id": "Siq_R70T01Dd"
      },
      "id": "Siq_R70T01Dd"
    },
    {
      "cell_type": "code",
      "source": [
        "zeroDArray = np.array(23)\n",
        "zeroDArray"
      ],
      "metadata": {
        "id": "BLEAqUf82pbS",
        "colab": {
          "base_uri": "https://localhost:8080/"
        },
        "outputId": "bc184d38-8b7a-4428-8368-a2a17a1ebbbb"
      },
      "id": "BLEAqUf82pbS",
      "execution_count": null,
      "outputs": [
        {
          "output_type": "execute_result",
          "data": {
            "text/plain": [
              "array(23)"
            ]
          },
          "metadata": {},
          "execution_count": 37
        }
      ]
    },
    {
      "cell_type": "code",
      "source": [
        "type(zeroDArray)"
      ],
      "metadata": {
        "id": "SM0cqZWlBuC7",
        "colab": {
          "base_uri": "https://localhost:8080/"
        },
        "outputId": "f35c7d55-c4fc-4fc6-f906-e09a6c509cf3"
      },
      "id": "SM0cqZWlBuC7",
      "execution_count": null,
      "outputs": [
        {
          "output_type": "execute_result",
          "data": {
            "text/plain": [
              "numpy.ndarray"
            ]
          },
          "metadata": {},
          "execution_count": 38
        }
      ]
    },
    {
      "cell_type": "code",
      "source": [
        "zeroDArray.ndim\n",
        "#np.ndim(zeroDArray)"
      ],
      "metadata": {
        "id": "fc3JbnauKPAH",
        "colab": {
          "base_uri": "https://localhost:8080/"
        },
        "outputId": "1a553930-73f2-481f-9483-1160a517ac60"
      },
      "id": "fc3JbnauKPAH",
      "execution_count": null,
      "outputs": [
        {
          "output_type": "execute_result",
          "data": {
            "text/plain": [
              "0"
            ]
          },
          "metadata": {},
          "execution_count": 40
        }
      ]
    },
    {
      "cell_type": "markdown",
      "source": [
        "**Zero-Dimensional Array:**\n",
        "\n",
        "Shape is (), indicating a single scalar."
      ],
      "metadata": {
        "id": "7DcNCY8NxD2-"
      },
      "id": "7DcNCY8NxD2-"
    },
    {
      "cell_type": "code",
      "source": [
        "zeroDArray.shape"
      ],
      "metadata": {
        "id": "j2KpymIU8qKb",
        "colab": {
          "base_uri": "https://localhost:8080/"
        },
        "outputId": "04ff5cbc-702d-4c54-ad30-6245d8cd02a9"
      },
      "id": "j2KpymIU8qKb",
      "execution_count": null,
      "outputs": [
        {
          "output_type": "execute_result",
          "data": {
            "text/plain": [
              "()"
            ]
          },
          "metadata": {},
          "execution_count": 41
        }
      ]
    },
    {
      "cell_type": "code",
      "source": [
        "oneDArray = np.array([1, 2, 3, 4, 5])\n",
        "oneDArray"
      ],
      "metadata": {
        "id": "EccnRtHR82TN",
        "colab": {
          "base_uri": "https://localhost:8080/"
        },
        "outputId": "b52e2826-0254-42b4-962b-e544e401b3b1"
      },
      "id": "EccnRtHR82TN",
      "execution_count": null,
      "outputs": [
        {
          "output_type": "execute_result",
          "data": {
            "text/plain": [
              "array([1, 2, 3, 4, 5])"
            ]
          },
          "metadata": {},
          "execution_count": 131
        }
      ]
    },
    {
      "cell_type": "code",
      "source": [
        "oneDArray.ndim\n",
        "#np.ndim(oneDArray)"
      ],
      "metadata": {
        "id": "yIsVUj3IKXaK",
        "colab": {
          "base_uri": "https://localhost:8080/"
        },
        "outputId": "35e8f24f-91ec-4e85-9a08-02db6433ca84"
      },
      "id": "yIsVUj3IKXaK",
      "execution_count": null,
      "outputs": [
        {
          "output_type": "execute_result",
          "data": {
            "text/plain": [
              "1"
            ]
          },
          "metadata": {},
          "execution_count": 44
        }
      ]
    },
    {
      "cell_type": "markdown",
      "source": [
        "**One-Dimensional Array:**\n",
        "\n",
        "Shape is (n,), where n is the number of elements."
      ],
      "metadata": {
        "id": "E115RLg2xPso"
      },
      "id": "E115RLg2xPso"
    },
    {
      "cell_type": "code",
      "source": [
        "#shape() --> return tuple specifying no of elements\n",
        "oneDArray.shape"
      ],
      "metadata": {
        "id": "SnfgLacM3FwI",
        "colab": {
          "base_uri": "https://localhost:8080/"
        },
        "outputId": "25da6a45-45e7-4fb5-896d-a273f755faae"
      },
      "id": "SnfgLacM3FwI",
      "execution_count": null,
      "outputs": [
        {
          "output_type": "execute_result",
          "data": {
            "text/plain": [
              "(5,)"
            ]
          },
          "metadata": {},
          "execution_count": 64
        }
      ]
    },
    {
      "cell_type": "code",
      "source": [
        "twoDArray = np.array([[1, 2, 3], [4, 5, 6]])\n",
        "twoDArray"
      ],
      "metadata": {
        "id": "2E37GzTX4WDG",
        "colab": {
          "base_uri": "https://localhost:8080/"
        },
        "outputId": "d0185251-1efb-4e37-e046-3d8f41c2795a"
      },
      "id": "2E37GzTX4WDG",
      "execution_count": null,
      "outputs": [
        {
          "output_type": "execute_result",
          "data": {
            "text/plain": [
              "array([[1, 2, 3],\n",
              "       [4, 5, 6]])"
            ]
          },
          "metadata": {},
          "execution_count": 57
        }
      ]
    },
    {
      "cell_type": "code",
      "source": [
        "twoDArray.ndim\n",
        "#np.ndim(twoDArray)"
      ],
      "metadata": {
        "id": "Q4AHn7PzKmj_",
        "colab": {
          "base_uri": "https://localhost:8080/"
        },
        "outputId": "93722cc2-e965-4f09-fccf-97de574e0504"
      },
      "id": "Q4AHn7PzKmj_",
      "execution_count": null,
      "outputs": [
        {
          "output_type": "execute_result",
          "data": {
            "text/plain": [
              "2"
            ]
          },
          "metadata": {},
          "execution_count": 56
        }
      ]
    },
    {
      "cell_type": "markdown",
      "source": [
        "**Two-Dimensional Array:**\n",
        "\n",
        "Shape is (rows, columns).\n"
      ],
      "metadata": {
        "id": "voL0NKvExnUD"
      },
      "id": "voL0NKvExnUD"
    },
    {
      "cell_type": "code",
      "source": [
        "#shape() --> return tuple specifying indices and no of elements\n",
        "twoDArray.shape"
      ],
      "metadata": {
        "id": "RU1nlYze9WM7",
        "colab": {
          "base_uri": "https://localhost:8080/"
        },
        "outputId": "7f2b9f78-46ef-422e-e7ba-1559d8d49635"
      },
      "id": "RU1nlYze9WM7",
      "execution_count": null,
      "outputs": [
        {
          "output_type": "execute_result",
          "data": {
            "text/plain": [
              "(3, 3)"
            ]
          },
          "metadata": {},
          "execution_count": 54
        }
      ]
    },
    {
      "cell_type": "code",
      "source": [
        "threeDArray = np.array([[[1, 2, 3], [4, 5, 6]], [[7, 8, 9], [10, 11, 12]]])\n",
        "threeDArray"
      ],
      "metadata": {
        "id": "tpRhjL4H4wTH",
        "colab": {
          "base_uri": "https://localhost:8080/"
        },
        "outputId": "f7466cdf-be18-46bc-a93b-a758bb352ef0"
      },
      "id": "tpRhjL4H4wTH",
      "execution_count": null,
      "outputs": [
        {
          "output_type": "execute_result",
          "data": {
            "text/plain": [
              "array([[[ 1,  2,  3],\n",
              "        [ 4,  5,  6]],\n",
              "\n",
              "       [[ 7,  8,  9],\n",
              "        [10, 11, 12]]])"
            ]
          },
          "metadata": {},
          "execution_count": 58
        }
      ]
    },
    {
      "cell_type": "code",
      "source": [
        "threeDArray.ndim\n",
        "#np.nidm(threeDArray)"
      ],
      "metadata": {
        "id": "KCs4fdMRKqJh",
        "colab": {
          "base_uri": "https://localhost:8080/"
        },
        "outputId": "98579ab0-ad40-47ed-e8b1-a6ca6d8f62a3"
      },
      "id": "KCs4fdMRKqJh",
      "execution_count": null,
      "outputs": [
        {
          "output_type": "execute_result",
          "data": {
            "text/plain": [
              "3"
            ]
          },
          "metadata": {},
          "execution_count": 59
        }
      ]
    },
    {
      "cell_type": "markdown",
      "source": [
        "**Three-Dimensional Array:**\n",
        "\n",
        "Shape is (depth, rows, columns)"
      ],
      "metadata": {
        "id": "NGNmLAf1xtvu"
      },
      "id": "NGNmLAf1xtvu"
    },
    {
      "cell_type": "code",
      "source": [
        "threeDArray.shape"
      ],
      "metadata": {
        "id": "uyLu_k_19hm7",
        "colab": {
          "base_uri": "https://localhost:8080/"
        },
        "outputId": "ba702c7d-e882-49d0-f1ca-fdb0f9ba99b9"
      },
      "id": "uyLu_k_19hm7",
      "execution_count": null,
      "outputs": [
        {
          "output_type": "execute_result",
          "data": {
            "text/plain": [
              "(2, 2, 3)"
            ]
          },
          "metadata": {},
          "execution_count": 70
        }
      ]
    },
    {
      "cell_type": "markdown",
      "source": [
        "**Reshape**\n",
        "* The reshape method in NumPy is used to change the shape of an array without changing its data.\n",
        "* This method allows you to create a new view of the array with the desired shape.\n",
        "* The total number of elements in the new shape must be the same as the original array."
      ],
      "metadata": {
        "id": "6Cn62VEw1wg-"
      },
      "id": "6Cn62VEw1wg-"
    },
    {
      "cell_type": "code",
      "source": [
        "#Reshaping a 1D Array to a 2D Array\n",
        "import numpy as np\n",
        "\n",
        "# Creating a 1D array\n",
        "original_array = np.array([1, 2, 3, 4, 5, 6])\n",
        "\n",
        "# Reshaping the 1D array to a 2D array (2 rows, 3 columns)\n",
        "reshaped_array = original_array.reshape((2, 3))\n",
        "\n",
        "print(\"Original array:\")\n",
        "print(original_array)\n",
        "print(\"Reshaped array:\")\n",
        "print(reshaped_array)"
      ],
      "metadata": {
        "colab": {
          "base_uri": "https://localhost:8080/"
        },
        "id": "UtHqxGGH3mma",
        "outputId": "e31ffe15-ad6c-4fc6-d967-83d5b0cefaf9"
      },
      "id": "UtHqxGGH3mma",
      "execution_count": null,
      "outputs": [
        {
          "output_type": "stream",
          "name": "stdout",
          "text": [
            "Original array:\n",
            "[1 2 3 4 5 6]\n",
            "Reshaped array:\n",
            "[[1 2 3]\n",
            " [4 5 6]]\n"
          ]
        }
      ]
    },
    {
      "cell_type": "code",
      "source": [
        "#reshape synatx: reshape(array_name,new_dimensions)\n",
        "\n",
        "print(\"TwoDArray:\",twoDArray)\n",
        "print(\"Before reshaping:\",np.shape(twoDArray))\n",
        "newArray = twoDArray.reshape(3,2)\n",
        "#newArray = np.reshape(newArray,(3,2))\n",
        "print(\"After reshaping:\",np.shape(newArray))\n",
        "print(newArray)"
      ],
      "metadata": {
        "id": "LeaCJHD8-0uX",
        "colab": {
          "base_uri": "https://localhost:8080/"
        },
        "outputId": "f337f71d-2e21-4a7f-9914-86cedc5f9926"
      },
      "id": "LeaCJHD8-0uX",
      "execution_count": null,
      "outputs": [
        {
          "output_type": "stream",
          "name": "stdout",
          "text": [
            "TwoDArray: [[1 2 3]\n",
            " [4 5 6]]\n",
            "Before reshaping: (2, 3)\n",
            "After reshaping: (3, 2)\n",
            "[[1 2]\n",
            " [3 4]\n",
            " [5 6]]\n"
          ]
        }
      ]
    },
    {
      "cell_type": "code",
      "source": [
        "print(\"ThreeDArray:\",threeDArray)\n",
        "print(\"Before reshaping:\",np.shape(threeDArray))\n"
      ],
      "metadata": {
        "id": "uOYmsFgL_UIp",
        "colab": {
          "base_uri": "https://localhost:8080/"
        },
        "outputId": "116c7817-d80d-4c1a-8f8e-e98c0f92f345"
      },
      "id": "uOYmsFgL_UIp",
      "execution_count": null,
      "outputs": [
        {
          "output_type": "stream",
          "name": "stdout",
          "text": [
            "ThreeDArray: [[[ 1  2  3]\n",
            "  [ 4  5  6]]\n",
            "\n",
            " [[ 7  8  9]\n",
            "  [10 11 12]]]\n",
            "Before reshaping: (2, 2, 3)\n"
          ]
        }
      ]
    },
    {
      "cell_type": "code",
      "source": [
        "#newArray = threeDArray.reshape(2,3)\n",
        "tempArray = threeDArray.reshape(1,1,12)\n",
        "print(\"After reshaping:\",np.shape(tempArray))\n",
        "print(tempArray)"
      ],
      "metadata": {
        "colab": {
          "base_uri": "https://localhost:8080/"
        },
        "id": "4eKs5CWQSLy4",
        "outputId": "63339580-ecc4-4eb9-fdf5-d7f658f91861"
      },
      "id": "4eKs5CWQSLy4",
      "execution_count": null,
      "outputs": [
        {
          "output_type": "stream",
          "name": "stdout",
          "text": [
            "After reshaping: (1, 1, 12)\n",
            "[[[ 1  2  3  4  5  6  7  8  9 10 11 12]]]\n"
          ]
        }
      ]
    },
    {
      "cell_type": "code",
      "source": [
        "import numpy as np\n",
        "\n",
        "# Create a 3D NumPy array\n",
        "array_3d = np.array([[[1, 2], [3, 4],[5, 6], [7, 8], [9, 10], [11, 12]]])\n",
        "\n",
        "# Get the shape of the 3D array\n",
        "shape_3d = array_3d.shape\n",
        "\n",
        "print(\"Shape of the 3D array:\", shape_3d)\n"
      ],
      "metadata": {
        "id": "xVzi5aYfG28F",
        "colab": {
          "base_uri": "https://localhost:8080/"
        },
        "outputId": "d073a450-dd13-4d3d-96b5-63b8d4598cf7"
      },
      "id": "xVzi5aYfG28F",
      "execution_count": null,
      "outputs": [
        {
          "output_type": "stream",
          "name": "stdout",
          "text": [
            "Shape of the 3D array: (1, 6, 2)\n"
          ]
        }
      ]
    },
    {
      "cell_type": "markdown",
      "source": [
        "# Accessing of an Array"
      ],
      "metadata": {
        "id": "RK8V8nr2WxiK"
      },
      "id": "RK8V8nr2WxiK"
    },
    {
      "cell_type": "code",
      "source": [
        "oneDArray"
      ],
      "metadata": {
        "id": "nWzIJmDMaknq",
        "colab": {
          "base_uri": "https://localhost:8080/"
        },
        "outputId": "6b33d0e5-54bc-4309-f386-70333c8437e4"
      },
      "id": "nWzIJmDMaknq",
      "execution_count": null,
      "outputs": [
        {
          "output_type": "execute_result",
          "data": {
            "text/plain": [
              "array([1, 2, 3, 4, 5])"
            ]
          },
          "metadata": {},
          "execution_count": 76
        }
      ]
    },
    {
      "cell_type": "code",
      "source": [
        "oneDArray[3]"
      ],
      "metadata": {
        "id": "nbguo5UKWs38",
        "colab": {
          "base_uri": "https://localhost:8080/"
        },
        "outputId": "902709e1-405a-4179-f773-a5705de981e1"
      },
      "id": "nbguo5UKWs38",
      "execution_count": null,
      "outputs": [
        {
          "output_type": "execute_result",
          "data": {
            "text/plain": [
              "1"
            ]
          },
          "metadata": {},
          "execution_count": 79
        }
      ]
    },
    {
      "cell_type": "code",
      "source": [
        "oneDArray[-3]"
      ],
      "metadata": {
        "id": "cLrtlNp9XAz8"
      },
      "id": "cLrtlNp9XAz8",
      "execution_count": null,
      "outputs": []
    },
    {
      "cell_type": "code",
      "source": [
        "twoDArray"
      ],
      "metadata": {
        "id": "-sW-nhyiapxp",
        "colab": {
          "base_uri": "https://localhost:8080/"
        },
        "outputId": "08aa88fe-3be4-4801-88ad-dbbb99c4012f"
      },
      "id": "-sW-nhyiapxp",
      "execution_count": null,
      "outputs": [
        {
          "output_type": "execute_result",
          "data": {
            "text/plain": [
              "array([[1, 2, 3],\n",
              "       [4, 5, 6]])"
            ]
          },
          "metadata": {},
          "execution_count": 80
        }
      ]
    },
    {
      "cell_type": "code",
      "source": [
        "twoDArray[1,0]"
      ],
      "metadata": {
        "id": "Gw-0pSneXEkS",
        "colab": {
          "base_uri": "https://localhost:8080/"
        },
        "outputId": "15bdaf34-404f-4cc0-c29d-c2b34a584346"
      },
      "id": "Gw-0pSneXEkS",
      "execution_count": null,
      "outputs": [
        {
          "output_type": "execute_result",
          "data": {
            "text/plain": [
              "4"
            ]
          },
          "metadata": {},
          "execution_count": 82
        }
      ]
    },
    {
      "cell_type": "code",
      "source": [
        "twoDArray[0][1]"
      ],
      "metadata": {
        "id": "yY5lVwWIXM6o",
        "colab": {
          "base_uri": "https://localhost:8080/"
        },
        "outputId": "0eb313f0-a471-4f8f-dcf5-baa4044de5f4"
      },
      "id": "yY5lVwWIXM6o",
      "execution_count": null,
      "outputs": [
        {
          "output_type": "execute_result",
          "data": {
            "text/plain": [
              "2"
            ]
          },
          "metadata": {},
          "execution_count": 83
        }
      ]
    },
    {
      "cell_type": "code",
      "source": [
        "threeDnewArray = np.array( [ [[10,20,30], [40,50,60]], [[70,80,90], [100,110,120]]  ])"
      ],
      "metadata": {
        "id": "5BapPFSrX8o7"
      },
      "id": "5BapPFSrX8o7",
      "execution_count": null,
      "outputs": []
    },
    {
      "cell_type": "code",
      "source": [
        "threeDnewArray.shape"
      ],
      "metadata": {
        "colab": {
          "base_uri": "https://localhost:8080/"
        },
        "id": "jT9ul9VOVbxV",
        "outputId": "277be721-7f89-4b0a-ab4c-f9e475d5a2cb"
      },
      "id": "jT9ul9VOVbxV",
      "execution_count": null,
      "outputs": [
        {
          "output_type": "execute_result",
          "data": {
            "text/plain": [
              "(2, 2, 3)"
            ]
          },
          "metadata": {},
          "execution_count": 85
        }
      ]
    },
    {
      "cell_type": "code",
      "source": [
        "threeDnewArray[1,1,2]"
      ],
      "metadata": {
        "id": "UHKc59CEYM49",
        "colab": {
          "base_uri": "https://localhost:8080/"
        },
        "outputId": "62641a3a-b7b6-43fe-f1b4-a4f73e82a3ae"
      },
      "id": "UHKc59CEYM49",
      "execution_count": null,
      "outputs": [
        {
          "output_type": "execute_result",
          "data": {
            "text/plain": [
              "60"
            ]
          },
          "metadata": {},
          "execution_count": 89
        }
      ]
    },
    {
      "cell_type": "markdown",
      "source": [
        "# Slicing of an Array"
      ],
      "metadata": {
        "id": "EunFPYPpZHQO"
      },
      "id": "EunFPYPpZHQO"
    },
    {
      "cell_type": "code",
      "source": [
        "oneDArray"
      ],
      "metadata": {
        "id": "y6rS9rKBafKS",
        "colab": {
          "base_uri": "https://localhost:8080/"
        },
        "outputId": "55213c1b-a20d-4293-9ec3-5d5a4202a6b2"
      },
      "id": "y6rS9rKBafKS",
      "execution_count": null,
      "outputs": [
        {
          "output_type": "execute_result",
          "data": {
            "text/plain": [
              "array([500,   2,   3,   4,   5])"
            ]
          },
          "metadata": {},
          "execution_count": 130
        }
      ]
    },
    {
      "cell_type": "code",
      "source": [
        "oneDArray[ : :]"
      ],
      "metadata": {
        "id": "j9MjSzo_ZVCt",
        "colab": {
          "base_uri": "https://localhost:8080/"
        },
        "outputId": "4ecb83d9-e899-40ff-f1d3-5b61dba4bb45"
      },
      "id": "j9MjSzo_ZVCt",
      "execution_count": null,
      "outputs": [
        {
          "output_type": "execute_result",
          "data": {
            "text/plain": [
              "array([1, 2, 3, 4, 5])"
            ]
          },
          "metadata": {},
          "execution_count": 91
        }
      ]
    },
    {
      "cell_type": "code",
      "source": [
        "oneDArray[ 2: 5:]"
      ],
      "metadata": {
        "id": "Iuun8yHFZu5L",
        "colab": {
          "base_uri": "https://localhost:8080/"
        },
        "outputId": "8a7ff429-1d18-489c-fa00-c2ec3ebe0a47"
      },
      "id": "Iuun8yHFZu5L",
      "execution_count": null,
      "outputs": [
        {
          "output_type": "execute_result",
          "data": {
            "text/plain": [
              "array([3, 4, 5])"
            ]
          },
          "metadata": {},
          "execution_count": 93
        }
      ]
    },
    {
      "cell_type": "code",
      "source": [
        "oneDArray[ : -3:]"
      ],
      "metadata": {
        "id": "OYSlXHJhZz5p",
        "colab": {
          "base_uri": "https://localhost:8080/"
        },
        "outputId": "bec7db2f-0c28-42a3-aa9d-e7d7eb54f8bb"
      },
      "id": "OYSlXHJhZz5p",
      "execution_count": null,
      "outputs": [
        {
          "output_type": "execute_result",
          "data": {
            "text/plain": [
              "array([1, 2])"
            ]
          },
          "metadata": {},
          "execution_count": 94
        }
      ]
    },
    {
      "cell_type": "code",
      "source": [
        "oneDArray[ 2: 4: 2]"
      ],
      "metadata": {
        "id": "z-8DhcC3aIVP",
        "colab": {
          "base_uri": "https://localhost:8080/"
        },
        "outputId": "63f03c5b-d85c-476e-db17-7a150fbf7e34"
      },
      "id": "z-8DhcC3aIVP",
      "execution_count": null,
      "outputs": [
        {
          "output_type": "execute_result",
          "data": {
            "text/plain": [
              "array([3])"
            ]
          },
          "metadata": {},
          "execution_count": 95
        }
      ]
    },
    {
      "cell_type": "code",
      "source": [
        "twoDArray"
      ],
      "metadata": {
        "id": "2fucxNVaaKZC",
        "colab": {
          "base_uri": "https://localhost:8080/"
        },
        "outputId": "39c5036d-7efb-4bae-c897-4f46e9e96e08"
      },
      "id": "2fucxNVaaKZC",
      "execution_count": null,
      "outputs": [
        {
          "output_type": "execute_result",
          "data": {
            "text/plain": [
              "array([[1, 2, 3],\n",
              "       [4, 5, 6]])"
            ]
          },
          "metadata": {},
          "execution_count": 107
        }
      ]
    },
    {
      "cell_type": "code",
      "source": [
        "twoDArray[0,1:3]"
      ],
      "metadata": {
        "id": "syiY36UmawJS",
        "colab": {
          "base_uri": "https://localhost:8080/"
        },
        "outputId": "0edca722-c635-4e58-ed50-4a7d5a866fa1"
      },
      "id": "syiY36UmawJS",
      "execution_count": null,
      "outputs": [
        {
          "output_type": "execute_result",
          "data": {
            "text/plain": [
              "array([4, 5, 6])"
            ]
          },
          "metadata": {},
          "execution_count": 103
        }
      ]
    },
    {
      "cell_type": "code",
      "source": [
        "twoDArray[2, 1:]"
      ],
      "metadata": {
        "id": "5yoVvH0fa4k3"
      },
      "id": "5yoVvH0fa4k3",
      "execution_count": null,
      "outputs": []
    },
    {
      "cell_type": "code",
      "source": [
        "twoDArray"
      ],
      "metadata": {
        "id": "gHG3nUYQb22a",
        "colab": {
          "base_uri": "https://localhost:8080/"
        },
        "outputId": "810f6fe0-528c-45e2-8dc9-661de3d52ee5"
      },
      "id": "gHG3nUYQb22a",
      "execution_count": null,
      "outputs": [
        {
          "output_type": "execute_result",
          "data": {
            "text/plain": [
              "array([[1, 2, 3],\n",
              "       [4, 5, 6]])"
            ]
          },
          "metadata": {},
          "execution_count": 104
        }
      ]
    },
    {
      "cell_type": "code",
      "source": [
        "twoDArray[0:2,1:3]"
      ],
      "metadata": {
        "id": "9ZXDA5TtbGWL",
        "colab": {
          "base_uri": "https://localhost:8080/"
        },
        "outputId": "f1c52775-085d-437b-ce41-284cc04dcc48"
      },
      "id": "9ZXDA5TtbGWL",
      "execution_count": null,
      "outputs": [
        {
          "output_type": "execute_result",
          "data": {
            "text/plain": [
              "array([[2, 3],\n",
              "       [5, 6]])"
            ]
          },
          "metadata": {},
          "execution_count": 114
        }
      ]
    },
    {
      "cell_type": "code",
      "source": [
        "twoDArray"
      ],
      "metadata": {
        "colab": {
          "base_uri": "https://localhost:8080/"
        },
        "id": "tyMo9jBnbimr",
        "outputId": "408ba760-3137-4d46-eaac-0969a0cb9d48"
      },
      "id": "tyMo9jBnbimr",
      "execution_count": null,
      "outputs": [
        {
          "output_type": "execute_result",
          "data": {
            "text/plain": [
              "array([[1, 2, 3],\n",
              "       [4, 5, 6]])"
            ]
          },
          "metadata": {},
          "execution_count": 109
        }
      ]
    },
    {
      "cell_type": "code",
      "source": [
        "twoDArray[0:2,1:2]"
      ],
      "metadata": {
        "id": "SSgUW1VNgs6K",
        "colab": {
          "base_uri": "https://localhost:8080/"
        },
        "outputId": "10f9a96b-88da-44e8-cc3d-2e3fca09528b"
      },
      "id": "SSgUW1VNgs6K",
      "execution_count": null,
      "outputs": [
        {
          "output_type": "execute_result",
          "data": {
            "text/plain": [
              "array([[2],\n",
              "       [5]])"
            ]
          },
          "metadata": {},
          "execution_count": 113
        }
      ]
    },
    {
      "cell_type": "code",
      "source": [
        "twoDArray[1:2,1:3]"
      ],
      "metadata": {
        "colab": {
          "base_uri": "https://localhost:8080/"
        },
        "id": "0KGngZw1c3Ax",
        "outputId": "f0ea1b1e-fcc4-4334-e7db-07021a4016a4"
      },
      "id": "0KGngZw1c3Ax",
      "execution_count": null,
      "outputs": [
        {
          "output_type": "execute_result",
          "data": {
            "text/plain": [
              "array([[5, 6]])"
            ]
          },
          "metadata": {},
          "execution_count": 115
        }
      ]
    },
    {
      "cell_type": "code",
      "source": [
        "threeDArray"
      ],
      "metadata": {
        "id": "09x-6ZHTcfN8"
      },
      "id": "09x-6ZHTcfN8",
      "execution_count": null,
      "outputs": []
    },
    {
      "cell_type": "code",
      "source": [
        "threeDArray[0,1,2]"
      ],
      "metadata": {
        "id": "oltVmZ7mcljn"
      },
      "id": "oltVmZ7mcljn",
      "execution_count": null,
      "outputs": []
    },
    {
      "cell_type": "code",
      "source": [
        "threeDArray[0,0,:2]"
      ],
      "metadata": {
        "id": "dgQbDnZ0crYA"
      },
      "id": "dgQbDnZ0crYA",
      "execution_count": null,
      "outputs": []
    },
    {
      "cell_type": "markdown",
      "source": [
        "# Axis\n",
        "# 0 --> Column\n",
        "# 1 --> Row"
      ],
      "metadata": {
        "id": "7xmhSUBlh2pW"
      },
      "id": "7xmhSUBlh2pW"
    },
    {
      "cell_type": "markdown",
      "source": [
        "# Sort"
      ],
      "metadata": {
        "id": "M0-jMcvjieJD"
      },
      "id": "M0-jMcvjieJD"
    },
    {
      "cell_type": "code",
      "source": [
        "sortArray = [[40, 10, 30], [10, 5, 15]]\n",
        "sortArray"
      ],
      "metadata": {
        "id": "GGItdl_9isft",
        "colab": {
          "base_uri": "https://localhost:8080/"
        },
        "outputId": "20704e34-ba57-4f7a-ed65-c409e45ce2d7"
      },
      "id": "GGItdl_9isft",
      "execution_count": null,
      "outputs": [
        {
          "output_type": "execute_result",
          "data": {
            "text/plain": [
              "[[40, 10, 30], [10, 5, 15]]"
            ]
          },
          "metadata": {},
          "execution_count": 122
        }
      ]
    },
    {
      "cell_type": "code",
      "source": [
        "np.sort(sortArray)"
      ],
      "metadata": {
        "id": "H758OHC9h4n9",
        "colab": {
          "base_uri": "https://localhost:8080/"
        },
        "outputId": "23335081-ffce-44e8-c074-eede8958df08"
      },
      "id": "H758OHC9h4n9",
      "execution_count": null,
      "outputs": [
        {
          "output_type": "execute_result",
          "data": {
            "text/plain": [
              "array([[10, 30, 40],\n",
              "       [ 5, 10, 15]])"
            ]
          },
          "metadata": {},
          "execution_count": 125
        }
      ]
    },
    {
      "cell_type": "code",
      "source": [
        "np.sort(sortArray,axis=0)"
      ],
      "metadata": {
        "id": "BVjrXMZJi1NF",
        "colab": {
          "base_uri": "https://localhost:8080/"
        },
        "outputId": "d3dad197-8ef0-4bfb-fdcc-3bb560bee8dd"
      },
      "id": "BVjrXMZJi1NF",
      "execution_count": null,
      "outputs": [
        {
          "output_type": "execute_result",
          "data": {
            "text/plain": [
              "array([[10,  5, 15],\n",
              "       [40, 10, 30]])"
            ]
          },
          "metadata": {},
          "execution_count": 126
        }
      ]
    },
    {
      "cell_type": "markdown",
      "id": "a2e97fa9",
      "metadata": {
        "id": "a2e97fa9"
      },
      "source": [
        "# Copy vs View\n",
        "# copy() --> External copy and creates two arrays\n",
        "#            If any one element is modified then it will not\n",
        "#            reflect to another array             \n",
        "# view() --> Cretae a reference to existing array and creates only one array\n",
        "#            If any one element is modified then it will be\n",
        "#            reflect on original array"
      ]
    },
    {
      "cell_type": "code",
      "execution_count": null,
      "id": "d92e7791",
      "metadata": {
        "scrolled": false,
        "id": "d92e7791",
        "colab": {
          "base_uri": "https://localhost:8080/"
        },
        "outputId": "0214a1a4-8600-49cd-86df-5cffbad192a2"
      },
      "outputs": [
        {
          "output_type": "stream",
          "name": "stdout",
          "text": [
            "Original array [1 2 3 4 5]\n",
            "Copied Array [ 1  2 50  4  5]\n",
            "Checking oneDArray [1 2 3 4 5]\n"
          ]
        }
      ],
      "source": [
        "copyArray = np.copy(oneDArray)\n",
        "copyArray[2] = 50\n",
        "print(\"Original array\",oneDArray)\n",
        "print(\"Copied Array\",copyArray)\n",
        "print(\"Checking oneDArray\", oneDArray)"
      ]
    },
    {
      "cell_type": "code",
      "source": [
        "viewArray = oneDArray.view()\n",
        "viewArray[0]=500\n",
        "print(\"Original array\",oneDArray)\n",
        "print(\"view array\",viewArray)"
      ],
      "metadata": {
        "colab": {
          "base_uri": "https://localhost:8080/"
        },
        "id": "0p-3KmUjfUoq",
        "outputId": "c6033922-653a-4212-cd97-6758b449f9fe"
      },
      "id": "0p-3KmUjfUoq",
      "execution_count": null,
      "outputs": [
        {
          "output_type": "stream",
          "name": "stdout",
          "text": [
            "Original array [500   2   3   4   5]\n",
            "view array [500   2   3   4   5]\n"
          ]
        }
      ]
    },
    {
      "cell_type": "markdown",
      "source": [
        "# Datatypes"
      ],
      "metadata": {
        "id": "c4YVaNcIlLvR"
      },
      "id": "c4YVaNcIlLvR"
    },
    {
      "cell_type": "code",
      "source": [
        "# Data Types\n",
        "# i --> int f --> float s ---> string u ---> unicode strings M --> datetime o ---> object\n",
        "#oneDArray.dtype\n",
        "x = np.array([10,20,30],dtype='U')\n",
        "x"
      ],
      "metadata": {
        "id": "qEYo5FUvkY2Q",
        "colab": {
          "base_uri": "https://localhost:8080/"
        },
        "outputId": "444b3736-0f40-4083-cd18-dd1b78cef10a"
      },
      "id": "qEYo5FUvkY2Q",
      "execution_count": null,
      "outputs": [
        {
          "output_type": "execute_result",
          "data": {
            "text/plain": [
              "array(['10', '20', '30'], dtype='<U2')"
            ]
          },
          "metadata": {},
          "execution_count": 139
        }
      ]
    },
    {
      "cell_type": "markdown",
      "source": [
        "# Astype"
      ],
      "metadata": {
        "id": "2jq4OVwAlW9W"
      },
      "id": "2jq4OVwAlW9W"
    },
    {
      "cell_type": "code",
      "source": [
        "y = np.array([\"1\", \"2\", \"3\"]).astype('i')\n",
        "y"
      ],
      "metadata": {
        "id": "UQD5N0diQ8Ny",
        "colab": {
          "base_uri": "https://localhost:8080/"
        },
        "outputId": "e3d32293-9fb7-4700-cd60-b6fffdea74c2"
      },
      "id": "UQD5N0diQ8Ny",
      "execution_count": null,
      "outputs": [
        {
          "output_type": "execute_result",
          "data": {
            "text/plain": [
              "array([1, 2, 3], dtype=int32)"
            ]
          },
          "metadata": {},
          "execution_count": 142
        }
      ]
    },
    {
      "cell_type": "markdown",
      "source": [
        "# Searching (Where)\n",
        "\n",
        "* returns index of given value\n",
        "\n",
        "\n"
      ],
      "metadata": {
        "id": "PVve21d7lcPX"
      },
      "id": "PVve21d7lcPX"
    },
    {
      "cell_type": "code",
      "source": [
        "oneDArray"
      ],
      "metadata": {
        "colab": {
          "base_uri": "https://localhost:8080/"
        },
        "id": "u9HgVIGloDDv",
        "outputId": "97927d79-04dc-42eb-d288-22779429916f"
      },
      "id": "u9HgVIGloDDv",
      "execution_count": null,
      "outputs": [
        {
          "output_type": "execute_result",
          "data": {
            "text/plain": [
              "array([500,   2,   3,   4,   5])"
            ]
          },
          "metadata": {},
          "execution_count": 143
        }
      ]
    },
    {
      "cell_type": "code",
      "source": [
        "np.where(oneDArray==4)"
      ],
      "metadata": {
        "id": "4-r6xI15RHbO",
        "colab": {
          "base_uri": "https://localhost:8080/"
        },
        "outputId": "2263c2ed-b146-4e37-d8ee-f1cb30f4d41a"
      },
      "id": "4-r6xI15RHbO",
      "execution_count": null,
      "outputs": [
        {
          "output_type": "stream",
          "name": "stdout",
          "text": [
            "(array([3]),)\n"
          ]
        }
      ]
    },
    {
      "cell_type": "markdown",
      "source": [
        "# searchsorted()\n",
        "\n",
        "* Binary Search\n",
        "* Return the index where the specified value should be inserted\n",
        "* Elements should be in sorted order\n",
        "\n",
        "\n",
        "\n",
        "\n",
        "\n"
      ],
      "metadata": {
        "id": "vmmBZEpCoqp-"
      },
      "id": "vmmBZEpCoqp-"
    },
    {
      "cell_type": "code",
      "source": [
        "z = np.array([10,20,30,40])\n",
        "np.searchsorted(z, [5, 15, 45 ,50])"
      ],
      "metadata": {
        "id": "dPn3ipRuoo35",
        "colab": {
          "base_uri": "https://localhost:8080/"
        },
        "outputId": "81b81890-aff8-43fd-d104-6895e0850229"
      },
      "id": "dPn3ipRuoo35",
      "execution_count": null,
      "outputs": [
        {
          "output_type": "execute_result",
          "data": {
            "text/plain": [
              "array([0, 1, 4, 4])"
            ]
          },
          "metadata": {},
          "execution_count": 148
        }
      ]
    },
    {
      "cell_type": "markdown",
      "source": [
        "# Splitting\n",
        "# Syntax: split(array, no of splits)\n",
        "# Note :                       No of Splits--> Equal Division"
      ],
      "metadata": {
        "id": "zBzjrWS2rIsS"
      },
      "id": "zBzjrWS2rIsS"
    },
    {
      "cell_type": "code",
      "source": [
        "oneDArray_new = np.array([1, 2, 3,   4,   5, 6])"
      ],
      "metadata": {
        "id": "Ur93s-60pTdv"
      },
      "id": "Ur93s-60pTdv",
      "execution_count": null,
      "outputs": []
    },
    {
      "cell_type": "code",
      "source": [
        "np.split(oneDArray_new,2)"
      ],
      "metadata": {
        "id": "XpsPzeMdrux7",
        "colab": {
          "base_uri": "https://localhost:8080/"
        },
        "outputId": "2c0af149-8397-4f6e-e925-2266ae0a72f2"
      },
      "id": "XpsPzeMdrux7",
      "execution_count": null,
      "outputs": [
        {
          "output_type": "execute_result",
          "data": {
            "text/plain": [
              "[array([1, 2, 3]), array([4, 5, 6])]"
            ]
          },
          "metadata": {},
          "execution_count": 157
        }
      ]
    },
    {
      "cell_type": "code",
      "source": [
        "np.split(oneDArray_new,4)"
      ],
      "metadata": {
        "id": "GSZUk2BIsyHJ",
        "colab": {
          "base_uri": "https://localhost:8080/",
          "height": 297
        },
        "outputId": "20b024c2-fcad-41b0-9c1b-659541b220e4"
      },
      "id": "GSZUk2BIsyHJ",
      "execution_count": null,
      "outputs": [
        {
          "output_type": "error",
          "ename": "ValueError",
          "evalue": "array split does not result in an equal division",
          "traceback": [
            "\u001b[0;31m---------------------------------------------------------------------------\u001b[0m",
            "\u001b[0;31mValueError\u001b[0m                                Traceback (most recent call last)",
            "\u001b[0;32m<ipython-input-159-93a4a229c265>\u001b[0m in \u001b[0;36m<cell line: 1>\u001b[0;34m()\u001b[0m\n\u001b[0;32m----> 1\u001b[0;31m \u001b[0mnp\u001b[0m\u001b[0;34m.\u001b[0m\u001b[0msplit\u001b[0m\u001b[0;34m(\u001b[0m\u001b[0moneDArray_new\u001b[0m\u001b[0;34m,\u001b[0m\u001b[0;36m4\u001b[0m\u001b[0;34m)\u001b[0m\u001b[0;34m\u001b[0m\u001b[0;34m\u001b[0m\u001b[0m\n\u001b[0m",
            "\u001b[0;32m/usr/local/lib/python3.10/dist-packages/numpy/lib/shape_base.py\u001b[0m in \u001b[0;36msplit\u001b[0;34m(ary, indices_or_sections, axis)\u001b[0m\n\u001b[1;32m    862\u001b[0m         \u001b[0mN\u001b[0m \u001b[0;34m=\u001b[0m \u001b[0mary\u001b[0m\u001b[0;34m.\u001b[0m\u001b[0mshape\u001b[0m\u001b[0;34m[\u001b[0m\u001b[0maxis\u001b[0m\u001b[0;34m]\u001b[0m\u001b[0;34m\u001b[0m\u001b[0;34m\u001b[0m\u001b[0m\n\u001b[1;32m    863\u001b[0m         \u001b[0;32mif\u001b[0m \u001b[0mN\u001b[0m \u001b[0;34m%\u001b[0m \u001b[0msections\u001b[0m\u001b[0;34m:\u001b[0m\u001b[0;34m\u001b[0m\u001b[0;34m\u001b[0m\u001b[0m\n\u001b[0;32m--> 864\u001b[0;31m             raise ValueError(\n\u001b[0m\u001b[1;32m    865\u001b[0m                 'array split does not result in an equal division') from None\n\u001b[1;32m    866\u001b[0m     \u001b[0;32mreturn\u001b[0m \u001b[0marray_split\u001b[0m\u001b[0;34m(\u001b[0m\u001b[0mary\u001b[0m\u001b[0;34m,\u001b[0m \u001b[0mindices_or_sections\u001b[0m\u001b[0;34m,\u001b[0m \u001b[0maxis\u001b[0m\u001b[0;34m)\u001b[0m\u001b[0;34m\u001b[0m\u001b[0;34m\u001b[0m\u001b[0m\n",
            "\u001b[0;31mValueError\u001b[0m: array split does not result in an equal division"
          ]
        }
      ]
    },
    {
      "cell_type": "markdown",
      "source": [
        "# array_split()\n",
        "\n",
        "# Syntax: array_split(array, no of splits)\n",
        "# Note :                       No of Splits--> Equal Division is not required"
      ],
      "metadata": {
        "id": "iYrl4UERsRBK"
      },
      "id": "iYrl4UERsRBK"
    },
    {
      "cell_type": "code",
      "source": [
        "np.array_split(oneDArray_new,4)"
      ],
      "metadata": {
        "id": "HvY-arxIr3g-",
        "colab": {
          "base_uri": "https://localhost:8080/"
        },
        "outputId": "87921f40-5ef9-4ca8-f5fa-445ad38da9c5"
      },
      "id": "HvY-arxIr3g-",
      "execution_count": null,
      "outputs": [
        {
          "output_type": "execute_result",
          "data": {
            "text/plain": [
              "[array([1, 2]), array([3, 4]), array([5]), array([6])]"
            ]
          },
          "metadata": {},
          "execution_count": 161
        }
      ]
    },
    {
      "cell_type": "markdown",
      "source": [
        "# hsplit()\n",
        "equal division horizontal manner similar to split()"
      ],
      "metadata": {
        "id": "xYoe_mW3s7M-"
      },
      "id": "xYoe_mW3s7M-"
    },
    {
      "cell_type": "code",
      "source": [
        "np.hsplit(oneDArray_new,2)\n",
        "#np.hsplit(oneDArray_new,4)"
      ],
      "metadata": {
        "id": "OVUncQ6gtsRK",
        "colab": {
          "base_uri": "https://localhost:8080/",
          "height": 339
        },
        "outputId": "9a3c866a-cf9a-41ae-d00b-07558bc6879c"
      },
      "id": "OVUncQ6gtsRK",
      "execution_count": null,
      "outputs": [
        {
          "output_type": "error",
          "ename": "ValueError",
          "evalue": "array split does not result in an equal division",
          "traceback": [
            "\u001b[0;31m---------------------------------------------------------------------------\u001b[0m",
            "\u001b[0;31mValueError\u001b[0m                                Traceback (most recent call last)",
            "\u001b[0;32m<ipython-input-165-93988b91313d>\u001b[0m in \u001b[0;36m<cell line: 2>\u001b[0;34m()\u001b[0m\n\u001b[1;32m      1\u001b[0m \u001b[0;31m#np.hsplit(oneDArray_new,2)\u001b[0m\u001b[0;34m\u001b[0m\u001b[0;34m\u001b[0m\u001b[0m\n\u001b[0;32m----> 2\u001b[0;31m \u001b[0mnp\u001b[0m\u001b[0;34m.\u001b[0m\u001b[0mhsplit\u001b[0m\u001b[0;34m(\u001b[0m\u001b[0moneDArray_new\u001b[0m\u001b[0;34m,\u001b[0m\u001b[0;36m4\u001b[0m\u001b[0;34m)\u001b[0m\u001b[0;34m\u001b[0m\u001b[0;34m\u001b[0m\u001b[0m\n\u001b[0m",
            "\u001b[0;32m/usr/local/lib/python3.10/dist-packages/numpy/lib/shape_base.py\u001b[0m in \u001b[0;36mhsplit\u001b[0;34m(ary, indices_or_sections)\u001b[0m\n\u001b[1;32m    938\u001b[0m         \u001b[0;32mreturn\u001b[0m \u001b[0msplit\u001b[0m\u001b[0;34m(\u001b[0m\u001b[0mary\u001b[0m\u001b[0;34m,\u001b[0m \u001b[0mindices_or_sections\u001b[0m\u001b[0;34m,\u001b[0m \u001b[0;36m1\u001b[0m\u001b[0;34m)\u001b[0m\u001b[0;34m\u001b[0m\u001b[0;34m\u001b[0m\u001b[0m\n\u001b[1;32m    939\u001b[0m     \u001b[0;32melse\u001b[0m\u001b[0;34m:\u001b[0m\u001b[0;34m\u001b[0m\u001b[0;34m\u001b[0m\u001b[0m\n\u001b[0;32m--> 940\u001b[0;31m         \u001b[0;32mreturn\u001b[0m \u001b[0msplit\u001b[0m\u001b[0;34m(\u001b[0m\u001b[0mary\u001b[0m\u001b[0;34m,\u001b[0m \u001b[0mindices_or_sections\u001b[0m\u001b[0;34m,\u001b[0m \u001b[0;36m0\u001b[0m\u001b[0;34m)\u001b[0m\u001b[0;34m\u001b[0m\u001b[0;34m\u001b[0m\u001b[0m\n\u001b[0m\u001b[1;32m    941\u001b[0m \u001b[0;34m\u001b[0m\u001b[0m\n\u001b[1;32m    942\u001b[0m \u001b[0;34m\u001b[0m\u001b[0m\n",
            "\u001b[0;32m/usr/local/lib/python3.10/dist-packages/numpy/lib/shape_base.py\u001b[0m in \u001b[0;36msplit\u001b[0;34m(ary, indices_or_sections, axis)\u001b[0m\n\u001b[1;32m    862\u001b[0m         \u001b[0mN\u001b[0m \u001b[0;34m=\u001b[0m \u001b[0mary\u001b[0m\u001b[0;34m.\u001b[0m\u001b[0mshape\u001b[0m\u001b[0;34m[\u001b[0m\u001b[0maxis\u001b[0m\u001b[0;34m]\u001b[0m\u001b[0;34m\u001b[0m\u001b[0;34m\u001b[0m\u001b[0m\n\u001b[1;32m    863\u001b[0m         \u001b[0;32mif\u001b[0m \u001b[0mN\u001b[0m \u001b[0;34m%\u001b[0m \u001b[0msections\u001b[0m\u001b[0;34m:\u001b[0m\u001b[0;34m\u001b[0m\u001b[0;34m\u001b[0m\u001b[0m\n\u001b[0;32m--> 864\u001b[0;31m             raise ValueError(\n\u001b[0m\u001b[1;32m    865\u001b[0m                 'array split does not result in an equal division') from None\n\u001b[1;32m    866\u001b[0m     \u001b[0;32mreturn\u001b[0m \u001b[0marray_split\u001b[0m\u001b[0;34m(\u001b[0m\u001b[0mary\u001b[0m\u001b[0;34m,\u001b[0m \u001b[0mindices_or_sections\u001b[0m\u001b[0;34m,\u001b[0m \u001b[0maxis\u001b[0m\u001b[0;34m)\u001b[0m\u001b[0;34m\u001b[0m\u001b[0;34m\u001b[0m\u001b[0m\n",
            "\u001b[0;31mValueError\u001b[0m: array split does not result in an equal division"
          ]
        }
      ]
    },
    {
      "cell_type": "markdown",
      "source": [
        "# vsplit()\n",
        "not applicable for 1 D Array\n",
        "Minimum of 2D array is required to implement vsplit()\n",
        "equal divison vertical manner"
      ],
      "metadata": {
        "id": "IsMSnK3xuUKE"
      },
      "id": "IsMSnK3xuUKE"
    },
    {
      "cell_type": "code",
      "source": [
        "#np.vsplit(oneDArray,2)\n",
        "np.vsplit(twoDArray,2)\n"
      ],
      "metadata": {
        "id": "Z-VPrTwltpRj",
        "colab": {
          "base_uri": "https://localhost:8080/"
        },
        "outputId": "73f86b7b-b8c2-44b1-9f01-033d90194fb8"
      },
      "id": "Z-VPrTwltpRj",
      "execution_count": null,
      "outputs": [
        {
          "output_type": "execute_result",
          "data": {
            "text/plain": [
              "[array([[1, 2, 3]]), array([[4, 5, 6]])]"
            ]
          },
          "metadata": {},
          "execution_count": 168
        }
      ]
    },
    {
      "cell_type": "markdown",
      "id": "88d5b2f8",
      "metadata": {
        "id": "88d5b2f8"
      },
      "source": [
        "# Linspace"
      ]
    },
    {
      "cell_type": "code",
      "execution_count": null,
      "id": "17887f6f",
      "metadata": {
        "scrolled": true,
        "id": "17887f6f",
        "colab": {
          "base_uri": "https://localhost:8080/"
        },
        "outputId": "45988c87-3bbc-4096-cb81-b0798dac4438"
      },
      "outputs": [
        {
          "output_type": "execute_result",
          "data": {
            "text/plain": [
              "(array([0. , 2.5, 5. ]), 2.5)"
            ]
          },
          "metadata": {},
          "execution_count": 181
        }
      ],
      "source": [
        "#linspace(start,stop,number=50,endpoint=true,\n",
        "#          retstep=false, dtype=float)\n",
        "np.linspace(0,5, num =  15, retstep = True)"
      ]
    },
    {
      "cell_type": "markdown",
      "id": "4719324f",
      "metadata": {
        "id": "4719324f"
      },
      "source": [
        "# Zeros, Ones, Full, Eye"
      ]
    },
    {
      "cell_type": "code",
      "execution_count": null,
      "id": "1808c425",
      "metadata": {
        "id": "1808c425",
        "colab": {
          "base_uri": "https://localhost:8080/"
        },
        "outputId": "9e11cd98-2f38-4376-e2b0-d21cb41a8b6f"
      },
      "outputs": [
        {
          "output_type": "execute_result",
          "data": {
            "text/plain": [
              "array([[0., 0.],\n",
              "       [0., 0.]])"
            ]
          },
          "metadata": {},
          "execution_count": 190
        }
      ],
      "source": [
        "np.zeros((2,2))\n",
        "#np.zeros((2,2),dtype= 'i')"
      ]
    },
    {
      "cell_type": "code",
      "execution_count": null,
      "id": "12bac73f",
      "metadata": {
        "scrolled": true,
        "id": "12bac73f",
        "colab": {
          "base_uri": "https://localhost:8080/"
        },
        "outputId": "2718e359-e1d1-4db0-ca16-d21968cabb60"
      },
      "outputs": [
        {
          "output_type": "execute_result",
          "data": {
            "text/plain": [
              "array([[1., 1.],\n",
              "       [1., 1.]])"
            ]
          },
          "metadata": {},
          "execution_count": 191
        }
      ],
      "source": [
        "np.ones((2,2))"
      ]
    },
    {
      "cell_type": "code",
      "execution_count": null,
      "id": "800beb8d",
      "metadata": {
        "scrolled": true,
        "id": "800beb8d",
        "colab": {
          "base_uri": "https://localhost:8080/"
        },
        "outputId": "8a948cb5-785f-47a4-fde9-c1126d1d7329"
      },
      "outputs": [
        {
          "output_type": "execute_result",
          "data": {
            "text/plain": [
              "array([[20, 20],\n",
              "       [20, 20]])"
            ]
          },
          "metadata": {},
          "execution_count": 193
        }
      ],
      "source": [
        "np.full((2,2), 20)"
      ]
    },
    {
      "cell_type": "code",
      "source": [],
      "metadata": {
        "id": "BXV96G-0ta04"
      },
      "id": "BXV96G-0ta04",
      "execution_count": null,
      "outputs": []
    },
    {
      "cell_type": "code",
      "execution_count": null,
      "id": "78ea03c3",
      "metadata": {
        "scrolled": false,
        "id": "78ea03c3",
        "colab": {
          "base_uri": "https://localhost:8080/"
        },
        "outputId": "f433397f-303d-4bea-ac7b-41be314a30da"
      },
      "outputs": [
        {
          "output_type": "execute_result",
          "data": {
            "text/plain": [
              "array([[1., 0., 0., 0., 0.],\n",
              "       [0., 1., 0., 0., 0.],\n",
              "       [0., 0., 1., 0., 0.],\n",
              "       [0., 0., 0., 1., 0.],\n",
              "       [0., 0., 0., 0., 1.]])"
            ]
          },
          "metadata": {},
          "execution_count": 198
        }
      ],
      "source": [
        "np.eye(3)\n",
        "np.eye(5)\n",
        "\n",
        "#temp = np.eye(3)\n",
        "#temp\n",
        "#temp.reshape(3)"
      ]
    },
    {
      "cell_type": "code",
      "source": [],
      "metadata": {
        "id": "ZZXRBi39uW1T"
      },
      "id": "ZZXRBi39uW1T",
      "execution_count": null,
      "outputs": []
    },
    {
      "cell_type": "code",
      "source": [
        "np.full((3,3),29)"
      ],
      "metadata": {
        "colab": {
          "base_uri": "https://localhost:8080/"
        },
        "id": "WJkRlpqWuTO7",
        "outputId": "81ae8a1c-5a79-4173-87f7-4a3b4d4e6c06"
      },
      "id": "WJkRlpqWuTO7",
      "execution_count": null,
      "outputs": [
        {
          "output_type": "execute_result",
          "data": {
            "text/plain": [
              "array([[29, 29, 29],\n",
              "       [29, 29, 29],\n",
              "       [29, 29, 29]])"
            ]
          },
          "metadata": {},
          "execution_count": 199
        }
      ]
    },
    {
      "cell_type": "code",
      "execution_count": null,
      "id": "9e3a9556",
      "metadata": {
        "id": "9e3a9556"
      },
      "outputs": [],
      "source": [
        "import numpy as np\n",
        "ab, ac = (4, 2)\n",
        "b = np.linspace(0, 1, ab)\n",
        "c = np.linspace(0, 1, ac)\n",
        "bd, cd = np.meshgrid(b, c)\n",
        "print(b)\n",
        "print(c)\n",
        "print(bd)\n",
        "print(cd)"
      ]
    },
    {
      "cell_type": "markdown",
      "id": "64a432ea",
      "metadata": {
        "id": "64a432ea"
      },
      "source": [
        "# Arrays with existing Data, Astype"
      ]
    },
    {
      "cell_type": "code",
      "execution_count": null,
      "id": "fdc5aa79",
      "metadata": {
        "scrolled": true,
        "id": "fdc5aa79"
      },
      "outputs": [],
      "source": [
        "#Arrays with existing Data\n",
        "#converting one type to another type\n",
        "#C --> ROW & F --> COL\n",
        "a = np.array([10,20,30])\n",
        "res = np.asarray(a, dtype = float, order = 'F')\n",
        "print(res)"
      ]
    },
    {
      "cell_type": "code",
      "source": [
        "b = np.array([[10,20,30],[40, 50 ,60]])\n",
        "print(b)"
      ],
      "metadata": {
        "id": "-83qbkh1sEM0"
      },
      "id": "-83qbkh1sEM0",
      "execution_count": null,
      "outputs": []
    },
    {
      "cell_type": "code",
      "source": [
        "res = np.asarray(b, dtype = float, order = 'F')\n",
        "print(res)"
      ],
      "metadata": {
        "id": "N5C_xwTmsK67"
      },
      "id": "N5C_xwTmsK67",
      "execution_count": null,
      "outputs": []
    },
    {
      "cell_type": "code",
      "source": [
        "#NDITER ---> Single dimension\n",
        "for i in np.nditer(res):\n",
        "    print(i)"
      ],
      "metadata": {
        "id": "SoAWJARQsO4i"
      },
      "id": "SoAWJARQsO4i",
      "execution_count": null,
      "outputs": []
    },
    {
      "cell_type": "code",
      "execution_count": null,
      "id": "f4ba284f",
      "metadata": {
        "scrolled": true,
        "id": "f4ba284f"
      },
      "outputs": [],
      "source": [
        "a = np.array([10,20,30])\n",
        "#print(a)\n",
        "print(a.astype(float))"
      ]
    },
    {
      "cell_type": "markdown",
      "id": "edcc1849",
      "metadata": {
        "id": "edcc1849"
      },
      "source": [
        "# Joining\n",
        "\n",
        "# Concatenate()\n",
        "--- Join two arrys with respect to given axis(with respect to rows & cols)\n",
        "\n",
        "--- concatenate((a,b) ,  axis)\n",
        "by default axis is 0\n",
        "\n",
        "a&b ---> names of arrays\n",
        "\n",
        "axis ---> 0(columns) & 1(rows)\n",
        "\n",
        "\n",
        "\n",
        "\n",
        "\n"
      ]
    },
    {
      "cell_type": "code",
      "execution_count": null,
      "id": "57f4e3f9",
      "metadata": {
        "id": "57f4e3f9"
      },
      "outputs": [],
      "source": [
        "#concatenate\n",
        "a = np.array([[10,20,30],[40,50,60]])\n",
        "b = np.array([[70,80,90],[100,110,120]])"
      ]
    },
    {
      "cell_type": "code",
      "source": [
        "a"
      ],
      "metadata": {
        "colab": {
          "base_uri": "https://localhost:8080/"
        },
        "id": "KmvRy3GwyWT5",
        "outputId": "5a5887dc-5afc-44bd-cde9-6b8cfcb0b662"
      },
      "id": "KmvRy3GwyWT5",
      "execution_count": null,
      "outputs": [
        {
          "output_type": "execute_result",
          "data": {
            "text/plain": [
              "array([[10, 20, 30],\n",
              "       [40, 50, 60]])"
            ]
          },
          "metadata": {},
          "execution_count": 206
        }
      ]
    },
    {
      "cell_type": "code",
      "source": [
        "b"
      ],
      "metadata": {
        "colab": {
          "base_uri": "https://localhost:8080/"
        },
        "id": "BRXArvhzyVWV",
        "outputId": "bbc3bea4-d489-4fc1-f2b2-53e9a73774f7"
      },
      "id": "BRXArvhzyVWV",
      "execution_count": null,
      "outputs": [
        {
          "output_type": "execute_result",
          "data": {
            "text/plain": [
              "array([[ 70,  80,  90],\n",
              "       [100, 110, 120]])"
            ]
          },
          "metadata": {},
          "execution_count": 207
        }
      ]
    },
    {
      "cell_type": "code",
      "source": [
        "np.concatenate((a,b))\n",
        "#by default axis is 0(column)"
      ],
      "metadata": {
        "colab": {
          "base_uri": "https://localhost:8080/"
        },
        "id": "9UgnBbHLyZAt",
        "outputId": "a7d39820-9f6c-4a97-915d-be335881b7a6"
      },
      "id": "9UgnBbHLyZAt",
      "execution_count": null,
      "outputs": [
        {
          "output_type": "execute_result",
          "data": {
            "text/plain": [
              "array([[ 10,  20,  30],\n",
              "       [ 40,  50,  60],\n",
              "       [ 70,  80,  90],\n",
              "       [100, 110, 120]])"
            ]
          },
          "metadata": {},
          "execution_count": 211
        }
      ]
    },
    {
      "cell_type": "code",
      "source": [
        "np.concatenate((a,b),axis = 1)"
      ],
      "metadata": {
        "colab": {
          "base_uri": "https://localhost:8080/"
        },
        "id": "65QmImaZtpXf",
        "outputId": "57612170-0686-46c9-ed75-de3d32cf0e63"
      },
      "id": "65QmImaZtpXf",
      "execution_count": null,
      "outputs": [
        {
          "output_type": "execute_result",
          "data": {
            "text/plain": [
              "array([[ 10,  20,  30,  70,  80,  90],\n",
              "       [ 40,  50,  60, 100, 110, 120]])"
            ]
          },
          "metadata": {},
          "execution_count": 212
        }
      ]
    },
    {
      "cell_type": "markdown",
      "source": [
        "#Stack"
      ],
      "metadata": {
        "id": "ASnfTq63xaAe"
      },
      "id": "ASnfTq63xaAe"
    },
    {
      "cell_type": "code",
      "source": [
        "a"
      ],
      "metadata": {
        "colab": {
          "base_uri": "https://localhost:8080/"
        },
        "id": "yDWBjMOOwf3k",
        "outputId": "eba94f0e-4c05-4427-ee30-a871e2edb4fe"
      },
      "id": "yDWBjMOOwf3k",
      "execution_count": null,
      "outputs": [
        {
          "output_type": "execute_result",
          "data": {
            "text/plain": [
              "array([[10, 20, 30],\n",
              "       [40, 50, 60]])"
            ]
          },
          "metadata": {},
          "execution_count": 213
        }
      ]
    },
    {
      "cell_type": "code",
      "source": [
        "b"
      ],
      "metadata": {
        "colab": {
          "base_uri": "https://localhost:8080/"
        },
        "id": "LPAEEsq3whtV",
        "outputId": "506d170e-a7da-4cae-f636-db5db349bbfb"
      },
      "id": "LPAEEsq3whtV",
      "execution_count": null,
      "outputs": [
        {
          "output_type": "execute_result",
          "data": {
            "text/plain": [
              "array([[ 70,  80,  90],\n",
              "       [100, 110, 120]])"
            ]
          },
          "metadata": {},
          "execution_count": 214
        }
      ]
    },
    {
      "cell_type": "code",
      "execution_count": null,
      "id": "e1b6051a",
      "metadata": {
        "scrolled": false,
        "id": "e1b6051a",
        "colab": {
          "base_uri": "https://localhost:8080/"
        },
        "outputId": "39929c5b-28b3-4afd-9345-60cbdcd8f8a7"
      },
      "outputs": [
        {
          "output_type": "execute_result",
          "data": {
            "text/plain": [
              "array([[[ 10,  20,  30],\n",
              "        [ 40,  50,  60]],\n",
              "\n",
              "       [[ 70,  80,  90],\n",
              "        [100, 110, 120]]])"
            ]
          },
          "metadata": {},
          "execution_count": 215
        }
      ],
      "source": [
        "#concatenation is single dimensional\n",
        "#stack is  two dimensional\n",
        "np.stack((a,b))"
      ]
    },
    {
      "cell_type": "code",
      "source": [
        "np.stack((a,b), axis = 1)"
      ],
      "metadata": {
        "id": "g1akS3fUztk3",
        "colab": {
          "base_uri": "https://localhost:8080/"
        },
        "outputId": "47b1ce78-4f50-4e13-a380-21838b1ff496"
      },
      "id": "g1akS3fUztk3",
      "execution_count": null,
      "outputs": [
        {
          "output_type": "execute_result",
          "data": {
            "text/plain": [
              "array([[[ 10,  20,  30],\n",
              "        [ 70,  80,  90]],\n",
              "\n",
              "       [[ 40,  50,  60],\n",
              "        [100, 110, 120]]])"
            ]
          },
          "metadata": {},
          "execution_count": 216
        }
      ]
    },
    {
      "cell_type": "markdown",
      "source": [
        "#hStack\n",
        "Similar to concatenate axis = 1 (row)"
      ],
      "metadata": {
        "id": "vBoXftH2xrAV"
      },
      "id": "vBoXftH2xrAV"
    },
    {
      "cell_type": "code",
      "source": [
        "a"
      ],
      "metadata": {
        "id": "g2adWj590DZv"
      },
      "id": "g2adWj590DZv",
      "execution_count": null,
      "outputs": []
    },
    {
      "cell_type": "code",
      "source": [
        "b"
      ],
      "metadata": {
        "id": "LyFrp0Ob0BTn"
      },
      "id": "LyFrp0Ob0BTn",
      "execution_count": null,
      "outputs": []
    },
    {
      "cell_type": "code",
      "execution_count": null,
      "id": "2aa75fe2",
      "metadata": {
        "scrolled": false,
        "id": "2aa75fe2",
        "colab": {
          "base_uri": "https://localhost:8080/"
        },
        "outputId": "25711f48-a006-4e21-eb8c-51438a19814a"
      },
      "outputs": [
        {
          "output_type": "execute_result",
          "data": {
            "text/plain": [
              "array([[ 10,  20,  30,  70,  80,  90],\n",
              "       [ 40,  50,  60, 100, 110, 120]])"
            ]
          },
          "metadata": {},
          "execution_count": 217
        }
      ],
      "source": [
        "np.hstack((a,b))"
      ]
    },
    {
      "cell_type": "markdown",
      "source": [
        "# VStack\n",
        "Similar to concatenate axis = 0 (Column)"
      ],
      "metadata": {
        "id": "JIth-o7ax3UJ"
      },
      "id": "JIth-o7ax3UJ"
    },
    {
      "cell_type": "code",
      "execution_count": null,
      "id": "ae2086c7",
      "metadata": {
        "id": "ae2086c7"
      },
      "outputs": [],
      "source": [
        "a"
      ]
    },
    {
      "cell_type": "code",
      "execution_count": null,
      "id": "2b1089b7",
      "metadata": {
        "id": "2b1089b7"
      },
      "outputs": [],
      "source": [
        "b"
      ]
    },
    {
      "cell_type": "code",
      "execution_count": null,
      "id": "3e0e8edc",
      "metadata": {
        "id": "3e0e8edc",
        "colab": {
          "base_uri": "https://localhost:8080/"
        },
        "outputId": "1e71b7d9-cc6c-4fe7-efdc-a6245398e1b9"
      },
      "outputs": [
        {
          "output_type": "execute_result",
          "data": {
            "text/plain": [
              "array([[ 10,  20,  30],\n",
              "       [ 40,  50,  60],\n",
              "       [ 70,  80,  90],\n",
              "       [100, 110, 120]])"
            ]
          },
          "metadata": {},
          "execution_count": 218
        }
      ],
      "source": [
        "np.vstack((a,b))"
      ]
    },
    {
      "cell_type": "markdown",
      "source": [
        "# DStack\n",
        "based on the depth of the array elements will join"
      ],
      "metadata": {
        "id": "ZInSy1ydx7nZ"
      },
      "id": "ZInSy1ydx7nZ"
    },
    {
      "cell_type": "code",
      "source": [
        "a"
      ],
      "metadata": {
        "id": "5PNZEytY0o3O",
        "colab": {
          "base_uri": "https://localhost:8080/"
        },
        "outputId": "c486ff43-94b9-4091-bb3c-2042cedb0430"
      },
      "id": "5PNZEytY0o3O",
      "execution_count": null,
      "outputs": [
        {
          "output_type": "execute_result",
          "data": {
            "text/plain": [
              "array([[10, 20, 30],\n",
              "       [40, 50, 60]])"
            ]
          },
          "metadata": {},
          "execution_count": 219
        }
      ]
    },
    {
      "cell_type": "code",
      "source": [
        "b"
      ],
      "metadata": {
        "id": "0VjrqPtl0kpP",
        "colab": {
          "base_uri": "https://localhost:8080/"
        },
        "outputId": "32e72f63-85ff-4956-c39e-b301447bc390"
      },
      "id": "0VjrqPtl0kpP",
      "execution_count": null,
      "outputs": [
        {
          "output_type": "execute_result",
          "data": {
            "text/plain": [
              "array([[ 70,  80,  90],\n",
              "       [100, 110, 120]])"
            ]
          },
          "metadata": {},
          "execution_count": 220
        }
      ]
    },
    {
      "cell_type": "code",
      "execution_count": null,
      "id": "344b03de",
      "metadata": {
        "scrolled": false,
        "id": "344b03de",
        "colab": {
          "base_uri": "https://localhost:8080/"
        },
        "outputId": "4c58e33e-2c94-42ef-ba08-c84a56a8b3bf"
      },
      "outputs": [
        {
          "output_type": "execute_result",
          "data": {
            "text/plain": [
              "array([[[ 10,  70],\n",
              "        [ 20,  80],\n",
              "        [ 30,  90]],\n",
              "\n",
              "       [[ 40, 100],\n",
              "        [ 50, 110],\n",
              "        [ 60, 120]]])"
            ]
          },
          "metadata": {},
          "execution_count": 221
        }
      ],
      "source": [
        "np.dstack((a,b))"
      ]
    },
    {
      "cell_type": "markdown",
      "id": "6e2a80c4",
      "metadata": {
        "id": "6e2a80c4"
      },
      "source": [
        "# Matrix Opeartions"
      ]
    },
    {
      "cell_type": "code",
      "source": [
        "a = np.array([[1, 2, 3],\n",
        "              [4, 5, 6]])\n",
        "b = np.array([[1, 1, 1],\n",
        "              [1, 1, 1]])\n",
        "print(np.add(a,b))"
      ],
      "metadata": {
        "colab": {
          "base_uri": "https://localhost:8080/"
        },
        "id": "2Ci1RlXiygk7",
        "outputId": "f795c37c-30e1-4c51-d2ce-e830fd8d4b48"
      },
      "id": "2Ci1RlXiygk7",
      "execution_count": null,
      "outputs": [
        {
          "output_type": "stream",
          "name": "stdout",
          "text": [
            "[[2 3 4]\n",
            " [5 6 7]]\n"
          ]
        }
      ]
    },
    {
      "cell_type": "code",
      "execution_count": null,
      "id": "2bef8790",
      "metadata": {
        "id": "2bef8790",
        "colab": {
          "base_uri": "https://localhost:8080/"
        },
        "outputId": "7cf65fbe-f90d-4da2-8927-7518ad31d800"
      },
      "outputs": [
        {
          "output_type": "execute_result",
          "data": {
            "text/plain": [
              "array([[0, 1, 2],\n",
              "       [3, 4, 5]])"
            ]
          },
          "metadata": {},
          "execution_count": 18
        }
      ],
      "source": [
        "a = np.array([[1, 2, 3],\n",
        "              [4, 5, 6]])\n",
        "b = np.array([[1, 1, 1],\n",
        "              [1, 1, 1]])\n",
        "np.subtract(a,b)"
      ]
    },
    {
      "cell_type": "code",
      "source": [
        "a = np.array([[1, 2, 3],\n",
        "              [4, 5, 6],\n",
        "              [7,8,9]])\n",
        "b = np.array([[1, 2, 3],\n",
        "              [1, 1, 1],\n",
        "              [1,1,1]])\n",
        "#np.multiply(a,b)\n",
        "np.dot(a,b)\n",
        "#a @ b"
      ],
      "metadata": {
        "id": "fpI4PdEo1vmb",
        "colab": {
          "base_uri": "https://localhost:8080/"
        },
        "outputId": "295d20e2-41f0-44c8-c365-906d3f89665e"
      },
      "id": "fpI4PdEo1vmb",
      "execution_count": null,
      "outputs": [
        {
          "output_type": "execute_result",
          "data": {
            "text/plain": [
              "array([[ 6,  7,  8],\n",
              "       [15, 19, 23],\n",
              "       [24, 31, 38]])"
            ]
          },
          "metadata": {},
          "execution_count": 229
        }
      ]
    },
    {
      "cell_type": "code",
      "execution_count": null,
      "id": "2b9a2c5e",
      "metadata": {
        "scrolled": true,
        "id": "2b9a2c5e"
      },
      "outputs": [],
      "source": []
    },
    {
      "cell_type": "code",
      "execution_count": null,
      "id": "848a627a",
      "metadata": {
        "id": "848a627a"
      },
      "outputs": [],
      "source": []
    },
    {
      "cell_type": "code",
      "execution_count": null,
      "id": "822008c3",
      "metadata": {
        "id": "822008c3"
      },
      "outputs": [],
      "source": []
    },
    {
      "cell_type": "code",
      "execution_count": null,
      "id": "d388effb",
      "metadata": {
        "id": "d388effb"
      },
      "outputs": [],
      "source": []
    },
    {
      "cell_type": "code",
      "execution_count": null,
      "id": "00eb875d",
      "metadata": {
        "id": "00eb875d"
      },
      "outputs": [],
      "source": []
    },
    {
      "cell_type": "code",
      "execution_count": null,
      "id": "da6b15a6",
      "metadata": {
        "id": "da6b15a6"
      },
      "outputs": [],
      "source": []
    },
    {
      "cell_type": "code",
      "execution_count": null,
      "id": "3c0c5fc5",
      "metadata": {
        "id": "3c0c5fc5"
      },
      "outputs": [],
      "source": []
    },
    {
      "cell_type": "code",
      "execution_count": null,
      "id": "ac922341",
      "metadata": {
        "id": "ac922341"
      },
      "outputs": [],
      "source": []
    },
    {
      "cell_type": "code",
      "execution_count": null,
      "id": "e9f43d1f",
      "metadata": {
        "id": "e9f43d1f"
      },
      "outputs": [],
      "source": []
    },
    {
      "cell_type": "code",
      "execution_count": null,
      "id": "4bf5b2a1",
      "metadata": {
        "id": "4bf5b2a1"
      },
      "outputs": [],
      "source": []
    },
    {
      "cell_type": "code",
      "execution_count": null,
      "id": "9ef706e2",
      "metadata": {
        "id": "9ef706e2"
      },
      "outputs": [],
      "source": []
    },
    {
      "cell_type": "code",
      "execution_count": null,
      "id": "2b1afbde",
      "metadata": {
        "id": "2b1afbde"
      },
      "outputs": [],
      "source": []
    },
    {
      "cell_type": "code",
      "execution_count": null,
      "id": "844f7b10",
      "metadata": {
        "id": "844f7b10"
      },
      "outputs": [],
      "source": []
    },
    {
      "cell_type": "code",
      "execution_count": null,
      "id": "2b7e0b81",
      "metadata": {
        "id": "2b7e0b81"
      },
      "outputs": [],
      "source": []
    },
    {
      "cell_type": "code",
      "execution_count": null,
      "id": "d8652fb2",
      "metadata": {
        "id": "d8652fb2"
      },
      "outputs": [],
      "source": []
    },
    {
      "cell_type": "code",
      "execution_count": null,
      "id": "333a3c48",
      "metadata": {
        "id": "333a3c48"
      },
      "outputs": [],
      "source": []
    },
    {
      "cell_type": "code",
      "execution_count": null,
      "id": "01060a2a",
      "metadata": {
        "id": "01060a2a"
      },
      "outputs": [],
      "source": []
    },
    {
      "cell_type": "code",
      "execution_count": null,
      "id": "cbc7a6d7",
      "metadata": {
        "id": "cbc7a6d7"
      },
      "outputs": [],
      "source": []
    },
    {
      "cell_type": "code",
      "execution_count": null,
      "id": "08b98e61",
      "metadata": {
        "id": "08b98e61"
      },
      "outputs": [],
      "source": []
    },
    {
      "cell_type": "code",
      "execution_count": null,
      "id": "a072fc1c",
      "metadata": {
        "id": "a072fc1c"
      },
      "outputs": [],
      "source": []
    },
    {
      "cell_type": "code",
      "execution_count": null,
      "id": "fa92a4dd",
      "metadata": {
        "id": "fa92a4dd"
      },
      "outputs": [],
      "source": []
    },
    {
      "cell_type": "code",
      "execution_count": null,
      "id": "e007906b",
      "metadata": {
        "id": "e007906b"
      },
      "outputs": [],
      "source": []
    },
    {
      "cell_type": "code",
      "execution_count": null,
      "id": "bef0dfec",
      "metadata": {
        "id": "bef0dfec"
      },
      "outputs": [],
      "source": []
    },
    {
      "cell_type": "code",
      "execution_count": null,
      "id": "8d4a7e7e",
      "metadata": {
        "id": "8d4a7e7e"
      },
      "outputs": [],
      "source": []
    },
    {
      "cell_type": "code",
      "execution_count": null,
      "id": "05ac517f",
      "metadata": {
        "id": "05ac517f"
      },
      "outputs": [],
      "source": []
    },
    {
      "cell_type": "code",
      "source": [],
      "metadata": {
        "id": "iZjT2N4BkZo2"
      },
      "id": "iZjT2N4BkZo2",
      "execution_count": null,
      "outputs": []
    }
  ],
  "metadata": {
    "kernelspec": {
      "display_name": "Python 3 (ipykernel)",
      "language": "python",
      "name": "python3"
    },
    "language_info": {
      "codemirror_mode": {
        "name": "ipython",
        "version": 3
      },
      "file_extension": ".py",
      "mimetype": "text/x-python",
      "name": "python",
      "nbconvert_exporter": "python",
      "pygments_lexer": "ipython3",
      "version": "3.10.9"
    },
    "colab": {
      "provenance": []
    }
  },
  "nbformat": 4,
  "nbformat_minor": 5
}